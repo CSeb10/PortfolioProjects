{
 "cells": [
  {
   "cell_type": "code",
   "execution_count": 1,
   "id": "48b170ae",
   "metadata": {},
   "outputs": [],
   "source": [
    "# Importing relevant libraries needed for PA\n",
    "import pandas as pd\n",
    "from pandas import Series, DataFrame\n",
    "import numpy as np\n",
    "import statistics\n",
    "from scipy import stats\n",
    "from sklearn.preprocessing import StandardScaler\n",
    "from sklearn.feature_selection import SelectKBest, f_classif\n",
    "from warnings import simplefilter\n",
    "simplefilter(action='ignore', category=FutureWarning)"
   ]
  },
  {
   "cell_type": "code",
   "execution_count": 2,
   "id": "2bedfc20",
   "metadata": {},
   "outputs": [],
   "source": [
    "df = pd.read_csv('C://Users//cseba//Documents//WGU//D209 Data Mining I//churn_clean.csv')"
   ]
  },
  {
   "cell_type": "code",
   "execution_count": 3,
   "id": "3f59b706",
   "metadata": {
    "scrolled": false
   },
   "outputs": [
    {
     "data": {
      "text/html": [
       "<div>\n",
       "<style scoped>\n",
       "    .dataframe tbody tr th:only-of-type {\n",
       "        vertical-align: middle;\n",
       "    }\n",
       "\n",
       "    .dataframe tbody tr th {\n",
       "        vertical-align: top;\n",
       "    }\n",
       "\n",
       "    .dataframe thead th {\n",
       "        text-align: right;\n",
       "    }\n",
       "</style>\n",
       "<table border=\"1\" class=\"dataframe\">\n",
       "  <thead>\n",
       "    <tr style=\"text-align: right;\">\n",
       "      <th></th>\n",
       "      <th>CaseOrder</th>\n",
       "      <th>Customer_id</th>\n",
       "      <th>Interaction</th>\n",
       "      <th>UID</th>\n",
       "      <th>City</th>\n",
       "      <th>State</th>\n",
       "      <th>County</th>\n",
       "      <th>Zip</th>\n",
       "      <th>Lat</th>\n",
       "      <th>Lng</th>\n",
       "      <th>...</th>\n",
       "      <th>MonthlyCharge</th>\n",
       "      <th>Bandwidth_GB_Year</th>\n",
       "      <th>Item1</th>\n",
       "      <th>Item2</th>\n",
       "      <th>Item3</th>\n",
       "      <th>Item4</th>\n",
       "      <th>Item5</th>\n",
       "      <th>Item6</th>\n",
       "      <th>Item7</th>\n",
       "      <th>Item8</th>\n",
       "    </tr>\n",
       "  </thead>\n",
       "  <tbody>\n",
       "    <tr>\n",
       "      <th>0</th>\n",
       "      <td>1</td>\n",
       "      <td>K409198</td>\n",
       "      <td>aa90260b-4141-4a24-8e36-b04ce1f4f77b</td>\n",
       "      <td>e885b299883d4f9fb18e39c75155d990</td>\n",
       "      <td>Point Baker</td>\n",
       "      <td>AK</td>\n",
       "      <td>Prince of Wales-Hyder</td>\n",
       "      <td>99927</td>\n",
       "      <td>56.25100</td>\n",
       "      <td>-133.37571</td>\n",
       "      <td>...</td>\n",
       "      <td>172.455519</td>\n",
       "      <td>904.536110</td>\n",
       "      <td>5</td>\n",
       "      <td>5</td>\n",
       "      <td>5</td>\n",
       "      <td>3</td>\n",
       "      <td>4</td>\n",
       "      <td>4</td>\n",
       "      <td>3</td>\n",
       "      <td>4</td>\n",
       "    </tr>\n",
       "    <tr>\n",
       "      <th>1</th>\n",
       "      <td>2</td>\n",
       "      <td>S120509</td>\n",
       "      <td>fb76459f-c047-4a9d-8af9-e0f7d4ac2524</td>\n",
       "      <td>f2de8bef964785f41a2959829830fb8a</td>\n",
       "      <td>West Branch</td>\n",
       "      <td>MI</td>\n",
       "      <td>Ogemaw</td>\n",
       "      <td>48661</td>\n",
       "      <td>44.32893</td>\n",
       "      <td>-84.24080</td>\n",
       "      <td>...</td>\n",
       "      <td>242.632554</td>\n",
       "      <td>800.982766</td>\n",
       "      <td>3</td>\n",
       "      <td>4</td>\n",
       "      <td>3</td>\n",
       "      <td>3</td>\n",
       "      <td>4</td>\n",
       "      <td>3</td>\n",
       "      <td>4</td>\n",
       "      <td>4</td>\n",
       "    </tr>\n",
       "    <tr>\n",
       "      <th>2</th>\n",
       "      <td>3</td>\n",
       "      <td>K191035</td>\n",
       "      <td>344d114c-3736-4be5-98f7-c72c281e2d35</td>\n",
       "      <td>f1784cfa9f6d92ae816197eb175d3c71</td>\n",
       "      <td>Yamhill</td>\n",
       "      <td>OR</td>\n",
       "      <td>Yamhill</td>\n",
       "      <td>97148</td>\n",
       "      <td>45.35589</td>\n",
       "      <td>-123.24657</td>\n",
       "      <td>...</td>\n",
       "      <td>159.947583</td>\n",
       "      <td>2054.706961</td>\n",
       "      <td>4</td>\n",
       "      <td>4</td>\n",
       "      <td>2</td>\n",
       "      <td>4</td>\n",
       "      <td>4</td>\n",
       "      <td>3</td>\n",
       "      <td>3</td>\n",
       "      <td>3</td>\n",
       "    </tr>\n",
       "    <tr>\n",
       "      <th>3</th>\n",
       "      <td>4</td>\n",
       "      <td>D90850</td>\n",
       "      <td>abfa2b40-2d43-4994-b15a-989b8c79e311</td>\n",
       "      <td>dc8a365077241bb5cd5ccd305136b05e</td>\n",
       "      <td>Del Mar</td>\n",
       "      <td>CA</td>\n",
       "      <td>San Diego</td>\n",
       "      <td>92014</td>\n",
       "      <td>32.96687</td>\n",
       "      <td>-117.24798</td>\n",
       "      <td>...</td>\n",
       "      <td>119.956840</td>\n",
       "      <td>2164.579412</td>\n",
       "      <td>4</td>\n",
       "      <td>4</td>\n",
       "      <td>4</td>\n",
       "      <td>2</td>\n",
       "      <td>5</td>\n",
       "      <td>4</td>\n",
       "      <td>3</td>\n",
       "      <td>3</td>\n",
       "    </tr>\n",
       "    <tr>\n",
       "      <th>4</th>\n",
       "      <td>5</td>\n",
       "      <td>K662701</td>\n",
       "      <td>68a861fd-0d20-4e51-a587-8a90407ee574</td>\n",
       "      <td>aabb64a116e83fdc4befc1fbab1663f9</td>\n",
       "      <td>Needville</td>\n",
       "      <td>TX</td>\n",
       "      <td>Fort Bend</td>\n",
       "      <td>77461</td>\n",
       "      <td>29.38012</td>\n",
       "      <td>-95.80673</td>\n",
       "      <td>...</td>\n",
       "      <td>149.948316</td>\n",
       "      <td>271.493436</td>\n",
       "      <td>4</td>\n",
       "      <td>4</td>\n",
       "      <td>4</td>\n",
       "      <td>3</td>\n",
       "      <td>4</td>\n",
       "      <td>4</td>\n",
       "      <td>4</td>\n",
       "      <td>5</td>\n",
       "    </tr>\n",
       "  </tbody>\n",
       "</table>\n",
       "<p>5 rows × 50 columns</p>\n",
       "</div>"
      ],
      "text/plain": [
       "   CaseOrder Customer_id                           Interaction  \\\n",
       "0          1     K409198  aa90260b-4141-4a24-8e36-b04ce1f4f77b   \n",
       "1          2     S120509  fb76459f-c047-4a9d-8af9-e0f7d4ac2524   \n",
       "2          3     K191035  344d114c-3736-4be5-98f7-c72c281e2d35   \n",
       "3          4      D90850  abfa2b40-2d43-4994-b15a-989b8c79e311   \n",
       "4          5     K662701  68a861fd-0d20-4e51-a587-8a90407ee574   \n",
       "\n",
       "                                UID         City State                 County  \\\n",
       "0  e885b299883d4f9fb18e39c75155d990  Point Baker    AK  Prince of Wales-Hyder   \n",
       "1  f2de8bef964785f41a2959829830fb8a  West Branch    MI                 Ogemaw   \n",
       "2  f1784cfa9f6d92ae816197eb175d3c71      Yamhill    OR                Yamhill   \n",
       "3  dc8a365077241bb5cd5ccd305136b05e      Del Mar    CA              San Diego   \n",
       "4  aabb64a116e83fdc4befc1fbab1663f9    Needville    TX              Fort Bend   \n",
       "\n",
       "     Zip       Lat        Lng  ...  MonthlyCharge Bandwidth_GB_Year Item1  \\\n",
       "0  99927  56.25100 -133.37571  ...     172.455519        904.536110     5   \n",
       "1  48661  44.32893  -84.24080  ...     242.632554        800.982766     3   \n",
       "2  97148  45.35589 -123.24657  ...     159.947583       2054.706961     4   \n",
       "3  92014  32.96687 -117.24798  ...     119.956840       2164.579412     4   \n",
       "4  77461  29.38012  -95.80673  ...     149.948316        271.493436     4   \n",
       "\n",
       "  Item2  Item3  Item4  Item5 Item6 Item7 Item8  \n",
       "0     5      5      3      4     4     3     4  \n",
       "1     4      3      3      4     3     4     4  \n",
       "2     4      2      4      4     3     3     3  \n",
       "3     4      4      2      5     4     3     3  \n",
       "4     4      4      3      4     4     4     5  \n",
       "\n",
       "[5 rows x 50 columns]"
      ]
     },
     "execution_count": 3,
     "metadata": {},
     "output_type": "execute_result"
    }
   ],
   "source": [
    "df.head()"
   ]
  },
  {
   "cell_type": "code",
   "execution_count": 4,
   "id": "b42c7b2a",
   "metadata": {},
   "outputs": [
    {
     "name": "stdout",
     "output_type": "stream",
     "text": [
      "<class 'pandas.core.frame.DataFrame'>\n",
      "RangeIndex: 10000 entries, 0 to 9999\n",
      "Data columns (total 50 columns):\n",
      " #   Column                Non-Null Count  Dtype  \n",
      "---  ------                --------------  -----  \n",
      " 0   CaseOrder             10000 non-null  int64  \n",
      " 1   Customer_id           10000 non-null  object \n",
      " 2   Interaction           10000 non-null  object \n",
      " 3   UID                   10000 non-null  object \n",
      " 4   City                  10000 non-null  object \n",
      " 5   State                 10000 non-null  object \n",
      " 6   County                10000 non-null  object \n",
      " 7   Zip                   10000 non-null  int64  \n",
      " 8   Lat                   10000 non-null  float64\n",
      " 9   Lng                   10000 non-null  float64\n",
      " 10  Population            10000 non-null  int64  \n",
      " 11  Area                  10000 non-null  object \n",
      " 12  TimeZone              10000 non-null  object \n",
      " 13  Job                   10000 non-null  object \n",
      " 14  Children              10000 non-null  int64  \n",
      " 15  Age                   10000 non-null  int64  \n",
      " 16  Income                10000 non-null  float64\n",
      " 17  Marital               10000 non-null  object \n",
      " 18  Gender                10000 non-null  object \n",
      " 19  Churn                 10000 non-null  object \n",
      " 20  Outage_sec_perweek    10000 non-null  float64\n",
      " 21  Email                 10000 non-null  int64  \n",
      " 22  Contacts              10000 non-null  int64  \n",
      " 23  Yearly_equip_failure  10000 non-null  int64  \n",
      " 24  Techie                10000 non-null  object \n",
      " 25  Contract              10000 non-null  object \n",
      " 26  Port_modem            10000 non-null  object \n",
      " 27  Tablet                10000 non-null  object \n",
      " 28  InternetService       10000 non-null  object \n",
      " 29  Phone                 10000 non-null  object \n",
      " 30  Multiple              10000 non-null  object \n",
      " 31  OnlineSecurity        10000 non-null  object \n",
      " 32  OnlineBackup          10000 non-null  object \n",
      " 33  DeviceProtection      10000 non-null  object \n",
      " 34  TechSupport           10000 non-null  object \n",
      " 35  StreamingTV           10000 non-null  object \n",
      " 36  StreamingMovies       10000 non-null  object \n",
      " 37  PaperlessBilling      10000 non-null  object \n",
      " 38  PaymentMethod         10000 non-null  object \n",
      " 39  Tenure                10000 non-null  float64\n",
      " 40  MonthlyCharge         10000 non-null  float64\n",
      " 41  Bandwidth_GB_Year     10000 non-null  float64\n",
      " 42  Item1                 10000 non-null  int64  \n",
      " 43  Item2                 10000 non-null  int64  \n",
      " 44  Item3                 10000 non-null  int64  \n",
      " 45  Item4                 10000 non-null  int64  \n",
      " 46  Item5                 10000 non-null  int64  \n",
      " 47  Item6                 10000 non-null  int64  \n",
      " 48  Item7                 10000 non-null  int64  \n",
      " 49  Item8                 10000 non-null  int64  \n",
      "dtypes: float64(7), int64(16), object(27)\n",
      "memory usage: 3.8+ MB\n"
     ]
    }
   ],
   "source": [
    "df.info()"
   ]
  },
  {
   "cell_type": "code",
   "execution_count": 5,
   "id": "66297868",
   "metadata": {},
   "outputs": [
    {
     "name": "stdout",
     "output_type": "stream",
     "text": [
      "<class 'pandas.core.frame.DataFrame'>\n",
      "RangeIndex: 10000 entries, 0 to 9999\n",
      "Data columns (total 10 columns):\n",
      " #   Column                Non-Null Count  Dtype  \n",
      "---  ------                --------------  -----  \n",
      " 0   Age                   10000 non-null  int64  \n",
      " 1   Income                10000 non-null  float64\n",
      " 2   Churn                 10000 non-null  object \n",
      " 3   Outage_sec_perweek    10000 non-null  float64\n",
      " 4   Email                 10000 non-null  int64  \n",
      " 5   Contacts              10000 non-null  int64  \n",
      " 6   Yearly_equip_failure  10000 non-null  int64  \n",
      " 7   Tenure                10000 non-null  float64\n",
      " 8   MonthlyCharge         10000 non-null  float64\n",
      " 9   Bandwidth_GB_Year     10000 non-null  float64\n",
      "dtypes: float64(5), int64(4), object(1)\n",
      "memory usage: 781.4+ KB\n"
     ]
    }
   ],
   "source": [
    "df = df.drop(columns=['CaseOrder', 'Customer_id', 'Interaction', 'UID', 'City', 'State', 'County', \n",
    "                     'Zip', 'Lat', 'Lng', 'Population', 'Area', 'TimeZone', 'Job', 'Children', \n",
    "                     'Marital', 'Gender', 'Techie', 'Contract', 'Port_modem', 'Tablet', 'InternetService', \n",
    "                     'Phone', 'Multiple', 'OnlineSecurity', 'OnlineBackup', 'DeviceProtection', 'TechSupport', \n",
    "                     'StreamingTV', 'StreamingMovies', 'PaperlessBilling', 'PaymentMethod', 'Item1', 'Item2', \n",
    "                     'Item3', 'Item4', 'Item5', 'Item6', 'Item7', 'Item8'])\n",
    "df.info()"
   ]
  },
  {
   "cell_type": "code",
   "execution_count": 6,
   "id": "9cc26d34",
   "metadata": {},
   "outputs": [
    {
     "data": {
      "text/html": [
       "<div>\n",
       "<style scoped>\n",
       "    .dataframe tbody tr th:only-of-type {\n",
       "        vertical-align: middle;\n",
       "    }\n",
       "\n",
       "    .dataframe tbody tr th {\n",
       "        vertical-align: top;\n",
       "    }\n",
       "\n",
       "    .dataframe thead th {\n",
       "        text-align: right;\n",
       "    }\n",
       "</style>\n",
       "<table border=\"1\" class=\"dataframe\">\n",
       "  <thead>\n",
       "    <tr style=\"text-align: right;\">\n",
       "      <th></th>\n",
       "      <th>Age</th>\n",
       "      <th>Income</th>\n",
       "      <th>Churn</th>\n",
       "      <th>Outage_sec_perweek</th>\n",
       "      <th>Email</th>\n",
       "      <th>Contacts</th>\n",
       "      <th>Yearly_equip_failure</th>\n",
       "      <th>Tenure</th>\n",
       "      <th>MonthlyCharge</th>\n",
       "      <th>Bandwidth_GB_Year</th>\n",
       "    </tr>\n",
       "  </thead>\n",
       "  <tbody>\n",
       "  </tbody>\n",
       "</table>\n",
       "</div>"
      ],
      "text/plain": [
       "Empty DataFrame\n",
       "Columns: [Age, Income, Churn, Outage_sec_perweek, Email, Contacts, Yearly_equip_failure, Tenure, MonthlyCharge, Bandwidth_GB_Year]\n",
       "Index: []"
      ]
     },
     "execution_count": 6,
     "metadata": {},
     "output_type": "execute_result"
    }
   ],
   "source": [
    "# check and remove duplicates\n",
    "df[df.duplicated(keep=False)]"
   ]
  },
  {
   "cell_type": "code",
   "execution_count": 7,
   "id": "622ee5c2",
   "metadata": {},
   "outputs": [
    {
     "data": {
      "text/plain": [
       "10000"
      ]
     },
     "execution_count": 7,
     "metadata": {},
     "output_type": "execute_result"
    }
   ],
   "source": [
    "# to double check if any duplicates were removed by counting number of rows in dataset \n",
    "len(df)"
   ]
  },
  {
   "cell_type": "code",
   "execution_count": 8,
   "id": "edf047d7",
   "metadata": {},
   "outputs": [],
   "source": [
    "# use pandas' get_dummies feature to convert all categorical variables into nominal and dropping the\n",
    "# level K1 variables. In this case, it's only Churn.\n",
    "df = pd.get_dummies(df, drop_first =True)"
   ]
  },
  {
   "cell_type": "code",
   "execution_count": 9,
   "id": "33a709a7",
   "metadata": {},
   "outputs": [
    {
     "name": "stdout",
     "output_type": "stream",
     "text": [
      "<class 'pandas.core.frame.DataFrame'>\n",
      "RangeIndex: 10000 entries, 0 to 9999\n",
      "Data columns (total 10 columns):\n",
      " #   Column                Non-Null Count  Dtype  \n",
      "---  ------                --------------  -----  \n",
      " 0   Age                   10000 non-null  int64  \n",
      " 1   Income                10000 non-null  float64\n",
      " 2   Outage_sec_perweek    10000 non-null  float64\n",
      " 3   Email                 10000 non-null  int64  \n",
      " 4   Contacts              10000 non-null  int64  \n",
      " 5   Yearly_equip_failure  10000 non-null  int64  \n",
      " 6   Tenure                10000 non-null  float64\n",
      " 7   MonthlyCharge         10000 non-null  float64\n",
      " 8   Bandwidth_GB_Year     10000 non-null  float64\n",
      " 9   Churn_Yes             10000 non-null  uint8  \n",
      "dtypes: float64(5), int64(4), uint8(1)\n",
      "memory usage: 713.0 KB\n"
     ]
    }
   ],
   "source": [
    "# confirm Churn was converted into nominal data and verifying data type.\n",
    "df.info()"
   ]
  },
  {
   "cell_type": "code",
   "execution_count": 10,
   "id": "f3f5367f",
   "metadata": {},
   "outputs": [
    {
     "data": {
      "text/html": [
       "<div>\n",
       "<style scoped>\n",
       "    .dataframe tbody tr th:only-of-type {\n",
       "        vertical-align: middle;\n",
       "    }\n",
       "\n",
       "    .dataframe tbody tr th {\n",
       "        vertical-align: top;\n",
       "    }\n",
       "\n",
       "    .dataframe thead th {\n",
       "        text-align: right;\n",
       "    }\n",
       "</style>\n",
       "<table border=\"1\" class=\"dataframe\">\n",
       "  <thead>\n",
       "    <tr style=\"text-align: right;\">\n",
       "      <th></th>\n",
       "      <th>Age</th>\n",
       "      <th>Income</th>\n",
       "      <th>Outage_sec_perweek</th>\n",
       "      <th>Email</th>\n",
       "      <th>Contacts</th>\n",
       "      <th>Yearly_equip_failure</th>\n",
       "      <th>Tenure</th>\n",
       "      <th>MonthlyCharge</th>\n",
       "      <th>Bandwidth_GB_Year</th>\n",
       "      <th>Churn_Yes</th>\n",
       "    </tr>\n",
       "  </thead>\n",
       "  <tbody>\n",
       "    <tr>\n",
       "      <th>count</th>\n",
       "      <td>10000.000000</td>\n",
       "      <td>10000.000000</td>\n",
       "      <td>10000.000000</td>\n",
       "      <td>10000.000000</td>\n",
       "      <td>10000.000000</td>\n",
       "      <td>10000.000000</td>\n",
       "      <td>10000.000000</td>\n",
       "      <td>10000.000000</td>\n",
       "      <td>10000.000000</td>\n",
       "      <td>10000.000000</td>\n",
       "    </tr>\n",
       "    <tr>\n",
       "      <th>mean</th>\n",
       "      <td>53.078400</td>\n",
       "      <td>39806.926771</td>\n",
       "      <td>10.001848</td>\n",
       "      <td>12.016000</td>\n",
       "      <td>0.994200</td>\n",
       "      <td>0.398000</td>\n",
       "      <td>34.526188</td>\n",
       "      <td>172.624816</td>\n",
       "      <td>3392.341550</td>\n",
       "      <td>0.265000</td>\n",
       "    </tr>\n",
       "    <tr>\n",
       "      <th>std</th>\n",
       "      <td>20.698882</td>\n",
       "      <td>28199.916702</td>\n",
       "      <td>2.976019</td>\n",
       "      <td>3.025898</td>\n",
       "      <td>0.988466</td>\n",
       "      <td>0.635953</td>\n",
       "      <td>26.443063</td>\n",
       "      <td>42.943094</td>\n",
       "      <td>2185.294852</td>\n",
       "      <td>0.441355</td>\n",
       "    </tr>\n",
       "    <tr>\n",
       "      <th>min</th>\n",
       "      <td>18.000000</td>\n",
       "      <td>348.670000</td>\n",
       "      <td>0.099747</td>\n",
       "      <td>1.000000</td>\n",
       "      <td>0.000000</td>\n",
       "      <td>0.000000</td>\n",
       "      <td>1.000259</td>\n",
       "      <td>79.978860</td>\n",
       "      <td>155.506715</td>\n",
       "      <td>0.000000</td>\n",
       "    </tr>\n",
       "    <tr>\n",
       "      <th>25%</th>\n",
       "      <td>35.000000</td>\n",
       "      <td>19224.717500</td>\n",
       "      <td>8.018214</td>\n",
       "      <td>10.000000</td>\n",
       "      <td>0.000000</td>\n",
       "      <td>0.000000</td>\n",
       "      <td>7.917694</td>\n",
       "      <td>139.979239</td>\n",
       "      <td>1236.470827</td>\n",
       "      <td>0.000000</td>\n",
       "    </tr>\n",
       "    <tr>\n",
       "      <th>50%</th>\n",
       "      <td>53.000000</td>\n",
       "      <td>33170.605000</td>\n",
       "      <td>10.018560</td>\n",
       "      <td>12.000000</td>\n",
       "      <td>1.000000</td>\n",
       "      <td>0.000000</td>\n",
       "      <td>35.430507</td>\n",
       "      <td>167.484700</td>\n",
       "      <td>3279.536903</td>\n",
       "      <td>0.000000</td>\n",
       "    </tr>\n",
       "    <tr>\n",
       "      <th>75%</th>\n",
       "      <td>71.000000</td>\n",
       "      <td>53246.170000</td>\n",
       "      <td>11.969485</td>\n",
       "      <td>14.000000</td>\n",
       "      <td>2.000000</td>\n",
       "      <td>1.000000</td>\n",
       "      <td>61.479795</td>\n",
       "      <td>200.734725</td>\n",
       "      <td>5586.141370</td>\n",
       "      <td>1.000000</td>\n",
       "    </tr>\n",
       "    <tr>\n",
       "      <th>max</th>\n",
       "      <td>89.000000</td>\n",
       "      <td>258900.700000</td>\n",
       "      <td>21.207230</td>\n",
       "      <td>23.000000</td>\n",
       "      <td>7.000000</td>\n",
       "      <td>6.000000</td>\n",
       "      <td>71.999280</td>\n",
       "      <td>290.160419</td>\n",
       "      <td>7158.981530</td>\n",
       "      <td>1.000000</td>\n",
       "    </tr>\n",
       "  </tbody>\n",
       "</table>\n",
       "</div>"
      ],
      "text/plain": [
       "                Age         Income  Outage_sec_perweek         Email  \\\n",
       "count  10000.000000   10000.000000        10000.000000  10000.000000   \n",
       "mean      53.078400   39806.926771           10.001848     12.016000   \n",
       "std       20.698882   28199.916702            2.976019      3.025898   \n",
       "min       18.000000     348.670000            0.099747      1.000000   \n",
       "25%       35.000000   19224.717500            8.018214     10.000000   \n",
       "50%       53.000000   33170.605000           10.018560     12.000000   \n",
       "75%       71.000000   53246.170000           11.969485     14.000000   \n",
       "max       89.000000  258900.700000           21.207230     23.000000   \n",
       "\n",
       "           Contacts  Yearly_equip_failure        Tenure  MonthlyCharge  \\\n",
       "count  10000.000000          10000.000000  10000.000000   10000.000000   \n",
       "mean       0.994200              0.398000     34.526188     172.624816   \n",
       "std        0.988466              0.635953     26.443063      42.943094   \n",
       "min        0.000000              0.000000      1.000259      79.978860   \n",
       "25%        0.000000              0.000000      7.917694     139.979239   \n",
       "50%        1.000000              0.000000     35.430507     167.484700   \n",
       "75%        2.000000              1.000000     61.479795     200.734725   \n",
       "max        7.000000              6.000000     71.999280     290.160419   \n",
       "\n",
       "       Bandwidth_GB_Year     Churn_Yes  \n",
       "count       10000.000000  10000.000000  \n",
       "mean         3392.341550      0.265000  \n",
       "std          2185.294852      0.441355  \n",
       "min           155.506715      0.000000  \n",
       "25%          1236.470827      0.000000  \n",
       "50%          3279.536903      0.000000  \n",
       "75%          5586.141370      1.000000  \n",
       "max          7158.981530      1.000000  "
      ]
     },
     "execution_count": 10,
     "metadata": {},
     "output_type": "execute_result"
    }
   ],
   "source": [
    "df.describe()"
   ]
  },
  {
   "cell_type": "code",
   "execution_count": 11,
   "id": "81aa57b3",
   "metadata": {},
   "outputs": [],
   "source": [
    "# Checking statistic on all variables and dropping all variables with Z scores of 3 or more to remove\n",
    "# anomalies and outliers.\n",
    "df = df[(np.abs(stats.zscore(df)) < 3).all(axis=1)]"
   ]
  },
  {
   "cell_type": "code",
   "execution_count": 12,
   "id": "f6ce6839",
   "metadata": {},
   "outputs": [
    {
     "name": "stdout",
     "output_type": "stream",
     "text": [
      "<class 'pandas.core.frame.DataFrame'>\n",
      "Int64Index: 9563 entries, 0 to 9999\n",
      "Data columns (total 10 columns):\n",
      " #   Column                Non-Null Count  Dtype  \n",
      "---  ------                --------------  -----  \n",
      " 0   Age                   9563 non-null   int64  \n",
      " 1   Income                9563 non-null   float64\n",
      " 2   Outage_sec_perweek    9563 non-null   float64\n",
      " 3   Email                 9563 non-null   int64  \n",
      " 4   Contacts              9563 non-null   int64  \n",
      " 5   Yearly_equip_failure  9563 non-null   int64  \n",
      " 6   Tenure                9563 non-null   float64\n",
      " 7   MonthlyCharge         9563 non-null   float64\n",
      " 8   Bandwidth_GB_Year     9563 non-null   float64\n",
      " 9   Churn_Yes             9563 non-null   uint8  \n",
      "dtypes: float64(5), int64(4), uint8(1)\n",
      "memory usage: 756.4 KB\n"
     ]
    }
   ],
   "source": [
    "# Confirm outliers and anomalies were dropped by number of rows of dataset remaining.\n",
    "df.info()"
   ]
  },
  {
   "cell_type": "code",
   "execution_count": 13,
   "id": "7d5e34de",
   "metadata": {},
   "outputs": [],
   "source": [
    "# change uint8 and float64 data type variables into int64 for statistical analysis.\n",
    "df[\"Income\"] = df[\"Income\"].astype(np.int64)\n",
    "df[\"Outage_sec_perweek\"] = df[\"Outage_sec_perweek\"].astype(np.int64)\n",
    "df[\"Tenure\"] = df[\"Tenure\"].astype(np.int64)\n",
    "df[\"MonthlyCharge\"] = df[\"MonthlyCharge\"].astype(np.int64)\n",
    "df[\"Bandwidth_GB_Year\"] = df[\"Bandwidth_GB_Year\"].astype(np.int64)\n",
    "df[\"Churn_Yes\"] = df[\"Churn_Yes\"].astype(np.int64)"
   ]
  },
  {
   "cell_type": "code",
   "execution_count": 14,
   "id": "c343a5e1",
   "metadata": {},
   "outputs": [
    {
     "name": "stdout",
     "output_type": "stream",
     "text": [
      "<class 'pandas.core.frame.DataFrame'>\n",
      "Int64Index: 9563 entries, 0 to 9999\n",
      "Data columns (total 10 columns):\n",
      " #   Column                Non-Null Count  Dtype\n",
      "---  ------                --------------  -----\n",
      " 0   Age                   9563 non-null   int64\n",
      " 1   Income                9563 non-null   int64\n",
      " 2   Outage_sec_perweek    9563 non-null   int64\n",
      " 3   Email                 9563 non-null   int64\n",
      " 4   Contacts              9563 non-null   int64\n",
      " 5   Yearly_equip_failure  9563 non-null   int64\n",
      " 6   Tenure                9563 non-null   int64\n",
      " 7   MonthlyCharge         9563 non-null   int64\n",
      " 8   Bandwidth_GB_Year     9563 non-null   int64\n",
      " 9   Churn_Yes             9563 non-null   int64\n",
      "dtypes: int64(10)\n",
      "memory usage: 821.8 KB\n"
     ]
    }
   ],
   "source": [
    "# Confirm all features have newly converted data types.\n",
    "df.info()"
   ]
  },
  {
   "cell_type": "code",
   "execution_count": 15,
   "id": "28edd34d",
   "metadata": {},
   "outputs": [
    {
     "name": "stdout",
     "output_type": "stream",
     "text": [
      "(9563, 9)\n",
      "(9563,)\n"
     ]
    }
   ],
   "source": [
    "X = df.drop(['Churn_Yes'],1)\n",
    "y = df['Churn_Yes']\n",
    "print(X.shape)\n",
    "print(y.shape)"
   ]
  },
  {
   "cell_type": "code",
   "execution_count": 16,
   "id": "4635abfa",
   "metadata": {},
   "outputs": [
    {
     "data": {
      "text/plain": [
       "(9563, 9)"
      ]
     },
     "execution_count": 16,
     "metadata": {},
     "output_type": "execute_result"
    }
   ],
   "source": [
    "feature_names = X.columns\n",
    "# Initialize the class and call fit_transform\n",
    "\n",
    "skbest = SelectKBest(score_func = f_classif, k='all')\n",
    "X_new = skbest.fit_transform(X, y)\n",
    "X_new.shape"
   ]
  },
  {
   "cell_type": "code",
   "execution_count": 17,
   "id": "7dbce6b0",
   "metadata": {},
   "outputs": [
    {
     "data": {
      "text/plain": [
       "6               Tenure\n",
       "8    Bandwidth_GB_Year\n",
       "7        MonthlyCharge\n",
       "Name: Feature, dtype: object"
      ]
     },
     "execution_count": 17,
     "metadata": {},
     "output_type": "execute_result"
    }
   ],
   "source": [
    "# Finding P-values to select statistically significant features\n",
    "p_values = pd.DataFrame({'Feature': X.columns, 'p_value':skbest.pvalues_}).sort_values('p_value') \n",
    "p_values[p_values['p_value'] < .05]\n",
    "features_to_keep = p_values['Feature'][p_values['p_value'] < .05]\n",
    "# Print the name of the selected features\n",
    "features_to_keep                                                                      "
   ]
  },
  {
   "cell_type": "code",
   "execution_count": 18,
   "id": "940070e2",
   "metadata": {},
   "outputs": [],
   "source": [
    "df = df.drop(columns=['Age', 'Email', 'Contacts', 'Yearly_equip_failure'])"
   ]
  },
  {
   "cell_type": "code",
   "execution_count": 19,
   "id": "6a466790",
   "metadata": {
    "scrolled": true
   },
   "outputs": [
    {
     "name": "stdout",
     "output_type": "stream",
     "text": [
      "<class 'pandas.core.frame.DataFrame'>\n",
      "Int64Index: 9563 entries, 0 to 9999\n",
      "Data columns (total 6 columns):\n",
      " #   Column              Non-Null Count  Dtype\n",
      "---  ------              --------------  -----\n",
      " 0   Income              9563 non-null   int64\n",
      " 1   Outage_sec_perweek  9563 non-null   int64\n",
      " 2   Tenure              9563 non-null   int64\n",
      " 3   MonthlyCharge       9563 non-null   int64\n",
      " 4   Bandwidth_GB_Year   9563 non-null   int64\n",
      " 5   Churn_Yes           9563 non-null   int64\n",
      "dtypes: int64(6)\n",
      "memory usage: 523.0 KB\n"
     ]
    }
   ],
   "source": [
    "df.info()"
   ]
  },
  {
   "cell_type": "code",
   "execution_count": 20,
   "id": "3f1041ab",
   "metadata": {},
   "outputs": [
    {
     "name": "stdout",
     "output_type": "stream",
     "text": [
      "   Churn_Yes    Income  Outage_sec_perweek    Tenure  MonthlyCharge  \\\n",
      "0        0.0 -0.387887           -0.847890 -1.057605       0.000840   \n",
      "1        1.0 -0.661565            0.507515 -1.246603       1.626284   \n",
      "2        0.0 -1.144301            0.168664 -0.717408      -0.301028   \n",
      "3        0.0 -0.772480            1.524069 -0.641808      -1.229853   \n",
      "4        1.0  0.071621           -0.509039 -1.246603      -0.533234   \n",
      "\n",
      "   Bandwidth_GB_Year  \n",
      "0          -1.135767  \n",
      "1          -1.183324  \n",
      "2          -0.609901  \n",
      "3          -0.559601  \n",
      "4          -1.425222  \n"
     ]
    }
   ],
   "source": [
    "# Standardization of data with StandardScaler to ensure distances for predictions are accurate for\n",
    "# features when measured on different scales of values.\n",
    "scaler = StandardScaler()\n",
    "df_pred = df.drop(['Churn_Yes'], axis = 1)\n",
    "df_pred_std = pd.DataFrame(scaler.fit_transform(df_pred), columns = df_pred.columns)\n",
    "df_resp = df['Churn_Yes']\n",
    "frames = [df_resp, df_pred_std]\n",
    "df_std = pd.concat(frames, axis = 1)\n",
    "print(df_std.head())"
   ]
  },
  {
   "cell_type": "code",
   "execution_count": 21,
   "id": "df12d309",
   "metadata": {},
   "outputs": [
    {
     "name": "stdout",
     "output_type": "stream",
     "text": [
      "<class 'pandas.core.frame.DataFrame'>\n",
      "Int64Index: 9975 entries, 0 to 9546\n",
      "Data columns (total 6 columns):\n",
      " #   Column              Non-Null Count  Dtype  \n",
      "---  ------              --------------  -----  \n",
      " 0   Churn_Yes           9563 non-null   float64\n",
      " 1   Income              9563 non-null   float64\n",
      " 2   Outage_sec_perweek  9563 non-null   float64\n",
      " 3   Tenure              9563 non-null   float64\n",
      " 4   MonthlyCharge       9563 non-null   float64\n",
      " 5   Bandwidth_GB_Year   9563 non-null   float64\n",
      "dtypes: float64(6)\n",
      "memory usage: 545.5 KB\n"
     ]
    }
   ],
   "source": [
    "# confirm changes\n",
    "df_std.info()"
   ]
  },
  {
   "cell_type": "code",
   "execution_count": 22,
   "id": "53bbd93c",
   "metadata": {},
   "outputs": [
    {
     "name": "stdout",
     "output_type": "stream",
     "text": [
      "Churn_Yes             412\n",
      "Income                412\n",
      "Outage_sec_perweek    412\n",
      "Tenure                412\n",
      "MonthlyCharge         412\n",
      "Bandwidth_GB_Year     412\n",
      "dtype: int64\n"
     ]
    }
   ],
   "source": [
    "print(df_std.isna().sum())"
   ]
  },
  {
   "cell_type": "code",
   "execution_count": 23,
   "id": "3069a5bb",
   "metadata": {},
   "outputs": [],
   "source": [
    "df_std = df_std.dropna()"
   ]
  },
  {
   "cell_type": "code",
   "execution_count": 24,
   "id": "bfc549be",
   "metadata": {},
   "outputs": [
    {
     "name": "stdout",
     "output_type": "stream",
     "text": [
      "<class 'pandas.core.frame.DataFrame'>\n",
      "Int64Index: 9151 entries, 0 to 9562\n",
      "Data columns (total 6 columns):\n",
      " #   Column              Non-Null Count  Dtype  \n",
      "---  ------              --------------  -----  \n",
      " 0   Churn_Yes           9151 non-null   float64\n",
      " 1   Income              9151 non-null   float64\n",
      " 2   Outage_sec_perweek  9151 non-null   float64\n",
      " 3   Tenure              9151 non-null   float64\n",
      " 4   MonthlyCharge       9151 non-null   float64\n",
      " 5   Bandwidth_GB_Year   9151 non-null   float64\n",
      "dtypes: float64(6)\n",
      "memory usage: 500.4 KB\n"
     ]
    }
   ],
   "source": [
    "# Check number of rows and columns in dataset. This concludes the data cleaning step.\n",
    "df_std.info()"
   ]
  },
  {
   "cell_type": "code",
   "execution_count": 25,
   "id": "7e2d33d8",
   "metadata": {},
   "outputs": [],
   "source": [
    "# Extract cleaned dataframe as it is ready for data mining - predictive analysis using Lasso regression method.\n",
    "df_std.to_csv(r'C:\\Users\\cseba\\Documents\\WGU\\D209 Data Mining I\\Task 2\\D209_Prepared_Dataset_Predictive_Analysis_Task_2.csv')"
   ]
  },
  {
   "cell_type": "code",
   "execution_count": null,
   "id": "5b86c5c6",
   "metadata": {},
   "outputs": [],
   "source": []
  }
 ],
 "metadata": {
  "kernelspec": {
   "display_name": "Python 3 (ipykernel)",
   "language": "python",
   "name": "python3"
  },
  "language_info": {
   "codemirror_mode": {
    "name": "ipython",
    "version": 3
   },
   "file_extension": ".py",
   "mimetype": "text/x-python",
   "name": "python",
   "nbconvert_exporter": "python",
   "pygments_lexer": "ipython3",
   "version": "3.9.13"
  }
 },
 "nbformat": 4,
 "nbformat_minor": 5
}
