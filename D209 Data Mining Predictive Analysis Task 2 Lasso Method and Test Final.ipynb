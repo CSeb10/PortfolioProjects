{
 "cells": [
  {
   "cell_type": "code",
   "execution_count": 1,
   "id": "48b170ae",
   "metadata": {},
   "outputs": [],
   "source": [
    "# Importing relevant libraries needed for PA\n",
    "import pandas as pd\n",
    "from pandas import Series, DataFrame\n",
    "import numpy as np\n",
    "from numpy import array\n",
    "import seaborn as sns\n",
    "import statistics\n",
    "from scipy import stats\n",
    "import matplotlib.pyplot as plt\n",
    "%matplotlib inline\n",
    "from sklearn.model_selection import train_test_split, GridSearchCV\n",
    "from sklearn.metrics import confusion_matrix, f1_score, accuracy_score, r2_score, make_scorer\n",
    "from sklearn.feature_selection import SelectKBest, chi2, f_regression\n",
    "from sklearn.datasets import load_boston, load_iris\n",
    "from sklearn.preprocessing import StandardScaler\n",
    "from sklearn.pipeline import Pipeline\n",
    "from sklearn.linear_model import Lasso"
   ]
  },
  {
   "cell_type": "code",
   "execution_count": 2,
   "id": "2bedfc20",
   "metadata": {},
   "outputs": [],
   "source": [
    "df = pd.read_csv('C://Users//cseba//Documents//WGU//D209 Data Mining I//Task 2//D209_Prepared_Dataset_Predictive_Analysis_Task_2.csv')"
   ]
  },
  {
   "cell_type": "code",
   "execution_count": 3,
   "id": "2eeafab5",
   "metadata": {},
   "outputs": [
    {
     "data": {
      "text/html": [
       "<div>\n",
       "<style scoped>\n",
       "    .dataframe tbody tr th:only-of-type {\n",
       "        vertical-align: middle;\n",
       "    }\n",
       "\n",
       "    .dataframe tbody tr th {\n",
       "        vertical-align: top;\n",
       "    }\n",
       "\n",
       "    .dataframe thead th {\n",
       "        text-align: right;\n",
       "    }\n",
       "</style>\n",
       "<table border=\"1\" class=\"dataframe\">\n",
       "  <thead>\n",
       "    <tr style=\"text-align: right;\">\n",
       "      <th></th>\n",
       "      <th>Unnamed: 0</th>\n",
       "      <th>Churn_Yes</th>\n",
       "      <th>Income</th>\n",
       "      <th>Outage_sec_perweek</th>\n",
       "      <th>Tenure</th>\n",
       "      <th>MonthlyCharge</th>\n",
       "      <th>Bandwidth_GB_Year</th>\n",
       "    </tr>\n",
       "  </thead>\n",
       "  <tbody>\n",
       "    <tr>\n",
       "      <th>0</th>\n",
       "      <td>0</td>\n",
       "      <td>0.0</td>\n",
       "      <td>-0.387887</td>\n",
       "      <td>-0.847890</td>\n",
       "      <td>-1.057605</td>\n",
       "      <td>0.000840</td>\n",
       "      <td>-1.135767</td>\n",
       "    </tr>\n",
       "    <tr>\n",
       "      <th>1</th>\n",
       "      <td>1</td>\n",
       "      <td>1.0</td>\n",
       "      <td>-0.661565</td>\n",
       "      <td>0.507515</td>\n",
       "      <td>-1.246603</td>\n",
       "      <td>1.626284</td>\n",
       "      <td>-1.183324</td>\n",
       "    </tr>\n",
       "    <tr>\n",
       "      <th>2</th>\n",
       "      <td>2</td>\n",
       "      <td>0.0</td>\n",
       "      <td>-1.144301</td>\n",
       "      <td>0.168664</td>\n",
       "      <td>-0.717408</td>\n",
       "      <td>-0.301028</td>\n",
       "      <td>-0.609901</td>\n",
       "    </tr>\n",
       "    <tr>\n",
       "      <th>3</th>\n",
       "      <td>3</td>\n",
       "      <td>0.0</td>\n",
       "      <td>-0.772480</td>\n",
       "      <td>1.524069</td>\n",
       "      <td>-0.641808</td>\n",
       "      <td>-1.229853</td>\n",
       "      <td>-0.559601</td>\n",
       "    </tr>\n",
       "    <tr>\n",
       "      <th>4</th>\n",
       "      <td>4</td>\n",
       "      <td>1.0</td>\n",
       "      <td>0.071621</td>\n",
       "      <td>-0.509039</td>\n",
       "      <td>-1.246603</td>\n",
       "      <td>-0.533234</td>\n",
       "      <td>-1.425222</td>\n",
       "    </tr>\n",
       "  </tbody>\n",
       "</table>\n",
       "</div>"
      ],
      "text/plain": [
       "   Unnamed: 0  Churn_Yes    Income  Outage_sec_perweek    Tenure  \\\n",
       "0           0        0.0 -0.387887           -0.847890 -1.057605   \n",
       "1           1        1.0 -0.661565            0.507515 -1.246603   \n",
       "2           2        0.0 -1.144301            0.168664 -0.717408   \n",
       "3           3        0.0 -0.772480            1.524069 -0.641808   \n",
       "4           4        1.0  0.071621           -0.509039 -1.246603   \n",
       "\n",
       "   MonthlyCharge  Bandwidth_GB_Year  \n",
       "0       0.000840          -1.135767  \n",
       "1       1.626284          -1.183324  \n",
       "2      -0.301028          -0.609901  \n",
       "3      -1.229853          -0.559601  \n",
       "4      -0.533234          -1.425222  "
      ]
     },
     "execution_count": 3,
     "metadata": {},
     "output_type": "execute_result"
    }
   ],
   "source": [
    "df.head()"
   ]
  },
  {
   "cell_type": "code",
   "execution_count": 4,
   "id": "d97b5b06",
   "metadata": {},
   "outputs": [],
   "source": [
    "df = df.drop(columns=['Unnamed: 0'])"
   ]
  },
  {
   "cell_type": "code",
   "execution_count": 5,
   "id": "dac8fe43",
   "metadata": {},
   "outputs": [
    {
     "name": "stdout",
     "output_type": "stream",
     "text": [
      "<class 'pandas.core.frame.DataFrame'>\n",
      "RangeIndex: 9151 entries, 0 to 9150\n",
      "Data columns (total 6 columns):\n",
      " #   Column              Non-Null Count  Dtype  \n",
      "---  ------              --------------  -----  \n",
      " 0   Churn_Yes           9151 non-null   float64\n",
      " 1   Income              9151 non-null   float64\n",
      " 2   Outage_sec_perweek  9151 non-null   float64\n",
      " 3   Tenure              9151 non-null   float64\n",
      " 4   MonthlyCharge       9151 non-null   float64\n",
      " 5   Bandwidth_GB_Year   9151 non-null   float64\n",
      "dtypes: float64(6)\n",
      "memory usage: 429.1 KB\n"
     ]
    }
   ],
   "source": [
    "# Confirm dropped unnamed column\n",
    "df.info()"
   ]
  },
  {
   "cell_type": "code",
   "execution_count": 6,
   "id": "f6312340",
   "metadata": {},
   "outputs": [
    {
     "data": {
      "text/plain": [
       "(9151, 6)"
      ]
     },
     "execution_count": 6,
     "metadata": {},
     "output_type": "execute_result"
    }
   ],
   "source": [
    "# Check number of rows and columns in dataset\n",
    "df.shape"
   ]
  },
  {
   "cell_type": "code",
   "execution_count": 7,
   "id": "8d4fde15",
   "metadata": {},
   "outputs": [],
   "source": [
    "# drop NaN rows since .info and .shape did not equal same amount of rows\n",
    "df = df.dropna()"
   ]
  },
  {
   "cell_type": "code",
   "execution_count": 8,
   "id": "2b87cfe0",
   "metadata": {},
   "outputs": [
    {
     "data": {
      "text/plain": [
       "(9151, 6)"
      ]
     },
     "execution_count": 8,
     "metadata": {},
     "output_type": "execute_result"
    }
   ],
   "source": [
    "df.shape"
   ]
  },
  {
   "cell_type": "code",
   "execution_count": 9,
   "id": "70aba73e",
   "metadata": {},
   "outputs": [],
   "source": [
    "# import libraries and split data into training and test set. Include Stratify to balance the models with all categories of\n",
    "# each feature.\n",
    "from sklearn.model_selection import train_test_split\n",
    "\n",
    "X = df.drop(['Churn_Yes'], axis = 1)\n",
    "y = df['Churn_Yes']\n",
    "\n",
    "# split the dataset\n",
    "X_train, X_test, y_train, y_test = train_test_split(X, y, random_state=16, test_size=0.2, stratify=y)\n",
    "frames_train = [X_train, y_train]\n",
    "df_train = pd.concat(frames_train, axis = 1)\n",
    "\n",
    "frames_test = [X_test, y_test]\n",
    "df_test = pd.concat(frames_test, axis = 1)"
   ]
  },
  {
   "cell_type": "code",
   "execution_count": 10,
   "id": "a82d0f31",
   "metadata": {},
   "outputs": [
    {
     "data": {
      "text/html": [
       "<div>\n",
       "<style scoped>\n",
       "    .dataframe tbody tr th:only-of-type {\n",
       "        vertical-align: middle;\n",
       "    }\n",
       "\n",
       "    .dataframe tbody tr th {\n",
       "        vertical-align: top;\n",
       "    }\n",
       "\n",
       "    .dataframe thead th {\n",
       "        text-align: right;\n",
       "    }\n",
       "</style>\n",
       "<table border=\"1\" class=\"dataframe\">\n",
       "  <thead>\n",
       "    <tr style=\"text-align: right;\">\n",
       "      <th></th>\n",
       "      <th>Income</th>\n",
       "      <th>Outage_sec_perweek</th>\n",
       "      <th>Tenure</th>\n",
       "      <th>MonthlyCharge</th>\n",
       "      <th>Bandwidth_GB_Year</th>\n",
       "    </tr>\n",
       "  </thead>\n",
       "  <tbody>\n",
       "    <tr>\n",
       "      <th>1391</th>\n",
       "      <td>2.206399</td>\n",
       "      <td>-0.847890</td>\n",
       "      <td>-0.944206</td>\n",
       "      <td>0.233046</td>\n",
       "      <td>-1.118391</td>\n",
       "    </tr>\n",
       "    <tr>\n",
       "      <th>8990</th>\n",
       "      <td>0.026400</td>\n",
       "      <td>-1.186742</td>\n",
       "      <td>0.756781</td>\n",
       "      <td>-0.811882</td>\n",
       "      <td>0.558893</td>\n",
       "    </tr>\n",
       "    <tr>\n",
       "      <th>8684</th>\n",
       "      <td>-0.341988</td>\n",
       "      <td>0.846367</td>\n",
       "      <td>1.021378</td>\n",
       "      <td>-0.533234</td>\n",
       "      <td>0.811766</td>\n",
       "    </tr>\n",
       "    <tr>\n",
       "      <th>4444</th>\n",
       "      <td>-0.843963</td>\n",
       "      <td>-1.186742</td>\n",
       "      <td>-1.095405</td>\n",
       "      <td>-0.765440</td>\n",
       "      <td>-0.991268</td>\n",
       "    </tr>\n",
       "    <tr>\n",
       "      <th>2598</th>\n",
       "      <td>-0.831670</td>\n",
       "      <td>-1.186742</td>\n",
       "      <td>-1.133204</td>\n",
       "      <td>1.161871</td>\n",
       "      <td>-1.065804</td>\n",
       "    </tr>\n",
       "  </tbody>\n",
       "</table>\n",
       "</div>"
      ],
      "text/plain": [
       "        Income  Outage_sec_perweek    Tenure  MonthlyCharge  Bandwidth_GB_Year\n",
       "1391  2.206399           -0.847890 -0.944206       0.233046          -1.118391\n",
       "8990  0.026400           -1.186742  0.756781      -0.811882           0.558893\n",
       "8684 -0.341988            0.846367  1.021378      -0.533234           0.811766\n",
       "4444 -0.843963           -1.186742 -1.095405      -0.765440          -0.991268\n",
       "2598 -0.831670           -1.186742 -1.133204       1.161871          -1.065804"
      ]
     },
     "execution_count": 10,
     "metadata": {},
     "output_type": "execute_result"
    }
   ],
   "source": [
    "X_train.head()"
   ]
  },
  {
   "cell_type": "code",
   "execution_count": 11,
   "id": "3fd6cce9",
   "metadata": {},
   "outputs": [],
   "source": [
    "X_train.to_csv(r'C:\\Users\\cseba\\Documents\\WGU\\D209 Data Mining I\\Task 2\\X_train.csv')"
   ]
  },
  {
   "cell_type": "code",
   "execution_count": 12,
   "id": "16476a07",
   "metadata": {},
   "outputs": [
    {
     "data": {
      "text/html": [
       "<div>\n",
       "<style scoped>\n",
       "    .dataframe tbody tr th:only-of-type {\n",
       "        vertical-align: middle;\n",
       "    }\n",
       "\n",
       "    .dataframe tbody tr th {\n",
       "        vertical-align: top;\n",
       "    }\n",
       "\n",
       "    .dataframe thead th {\n",
       "        text-align: right;\n",
       "    }\n",
       "</style>\n",
       "<table border=\"1\" class=\"dataframe\">\n",
       "  <thead>\n",
       "    <tr style=\"text-align: right;\">\n",
       "      <th></th>\n",
       "      <th>Income</th>\n",
       "      <th>Outage_sec_perweek</th>\n",
       "      <th>Tenure</th>\n",
       "      <th>MonthlyCharge</th>\n",
       "      <th>Bandwidth_GB_Year</th>\n",
       "    </tr>\n",
       "  </thead>\n",
       "  <tbody>\n",
       "    <tr>\n",
       "      <th>4909</th>\n",
       "      <td>-0.851107</td>\n",
       "      <td>-0.509039</td>\n",
       "      <td>0.643381</td>\n",
       "      <td>1.928152</td>\n",
       "      <td>0.688759</td>\n",
       "    </tr>\n",
       "    <tr>\n",
       "      <th>568</th>\n",
       "      <td>0.876129</td>\n",
       "      <td>-0.170188</td>\n",
       "      <td>-1.133204</td>\n",
       "      <td>-0.301028</td>\n",
       "      <td>-1.000414</td>\n",
       "    </tr>\n",
       "    <tr>\n",
       "      <th>6001</th>\n",
       "      <td>2.427792</td>\n",
       "      <td>0.168664</td>\n",
       "      <td>1.361576</td>\n",
       "      <td>-0.231366</td>\n",
       "      <td>1.449207</td>\n",
       "    </tr>\n",
       "    <tr>\n",
       "      <th>289</th>\n",
       "      <td>0.683234</td>\n",
       "      <td>0.168664</td>\n",
       "      <td>-1.133204</td>\n",
       "      <td>-0.649337</td>\n",
       "      <td>-0.954229</td>\n",
       "    </tr>\n",
       "    <tr>\n",
       "      <th>5963</th>\n",
       "      <td>0.933802</td>\n",
       "      <td>0.168664</td>\n",
       "      <td>0.870180</td>\n",
       "      <td>-0.579675</td>\n",
       "      <td>0.765581</td>\n",
       "    </tr>\n",
       "  </tbody>\n",
       "</table>\n",
       "</div>"
      ],
      "text/plain": [
       "        Income  Outage_sec_perweek    Tenure  MonthlyCharge  Bandwidth_GB_Year\n",
       "4909 -0.851107           -0.509039  0.643381       1.928152           0.688759\n",
       "568   0.876129           -0.170188 -1.133204      -0.301028          -1.000414\n",
       "6001  2.427792            0.168664  1.361576      -0.231366           1.449207\n",
       "289   0.683234            0.168664 -1.133204      -0.649337          -0.954229\n",
       "5963  0.933802            0.168664  0.870180      -0.579675           0.765581"
      ]
     },
     "execution_count": 12,
     "metadata": {},
     "output_type": "execute_result"
    }
   ],
   "source": [
    "X_test.head()"
   ]
  },
  {
   "cell_type": "code",
   "execution_count": 13,
   "id": "4ef8f03d",
   "metadata": {},
   "outputs": [],
   "source": [
    "X_test.to_csv(r'C:\\Users\\cseba\\Documents\\WGU\\D209 Data Mining I\\Task 2\\X_test.csv')"
   ]
  },
  {
   "cell_type": "code",
   "execution_count": 14,
   "id": "26ba6bd7",
   "metadata": {},
   "outputs": [
    {
     "data": {
      "text/plain": [
       "1391    0.0\n",
       "8990    0.0\n",
       "8684    0.0\n",
       "4444    1.0\n",
       "2598    1.0\n",
       "Name: Churn_Yes, dtype: float64"
      ]
     },
     "execution_count": 14,
     "metadata": {},
     "output_type": "execute_result"
    }
   ],
   "source": [
    "y_train.head()"
   ]
  },
  {
   "cell_type": "code",
   "execution_count": 15,
   "id": "8431262e",
   "metadata": {},
   "outputs": [],
   "source": [
    "y_train.to_csv(r'C:\\Users\\cseba\\Documents\\WGU\\D209 Data Mining I\\Task 2\\y_train.csv')"
   ]
  },
  {
   "cell_type": "code",
   "execution_count": 16,
   "id": "454ac2a1",
   "metadata": {},
   "outputs": [
    {
     "data": {
      "text/plain": [
       "4909    0.0\n",
       "568     0.0\n",
       "6001    0.0\n",
       "289     1.0\n",
       "5963    0.0\n",
       "Name: Churn_Yes, dtype: float64"
      ]
     },
     "execution_count": 16,
     "metadata": {},
     "output_type": "execute_result"
    }
   ],
   "source": [
    "y_test.head()"
   ]
  },
  {
   "cell_type": "code",
   "execution_count": 17,
   "id": "a819a740",
   "metadata": {},
   "outputs": [],
   "source": [
    "y_test.to_csv(r'C:\\Users\\cseba\\Documents\\WGU\\D209 Data Mining I\\Task 2\\y_test.csv')"
   ]
  },
  {
   "cell_type": "code",
   "execution_count": 18,
   "id": "debf38d9",
   "metadata": {},
   "outputs": [],
   "source": [
    "# set up scaler for StandardScaler for hyperparameter tuning the model.\n",
    "\n",
    "pipeline = Pipeline([('scaler',StandardScaler()),('model',Lasso())\n",
    "])"
   ]
  },
  {
   "cell_type": "code",
   "execution_count": 19,
   "id": "d4ec5e51",
   "metadata": {},
   "outputs": [],
   "source": [
    "# optimize hyperparameter of alpha in the Lasso regression\n",
    "\n",
    "search = GridSearchCV(pipeline,{'model__alpha':np.arange(0.1,10,0.1)},cv = 5,\n",
    "scoring=\"neg_mean_squared_error\",verbose=3)"
   ]
  },
  {
   "cell_type": "code",
   "execution_count": 20,
   "id": "79d5a34f",
   "metadata": {},
   "outputs": [
    {
     "name": "stdout",
     "output_type": "stream",
     "text": [
      "Fitting 5 folds for each of 99 candidates, totalling 495 fits\n",
      "[CV 1/5] END .................model__alpha=0.1;, score=-0.169 total time=   0.0s\n",
      "[CV 2/5] END .................model__alpha=0.1;, score=-0.174 total time=   0.0s\n",
      "[CV 3/5] END .................model__alpha=0.1;, score=-0.178 total time=   0.0s\n",
      "[CV 4/5] END .................model__alpha=0.1;, score=-0.171 total time=   0.0s\n",
      "[CV 5/5] END .................model__alpha=0.1;, score=-0.175 total time=   0.0s\n",
      "[CV 1/5] END .................model__alpha=0.2;, score=-0.194 total time=   0.0s\n",
      "[CV 2/5] END .................model__alpha=0.2;, score=-0.200 total time=   0.0s\n",
      "[CV 3/5] END .................model__alpha=0.2;, score=-0.203 total time=   0.0s\n",
      "[CV 4/5] END .................model__alpha=0.2;, score=-0.198 total time=   0.0s\n",
      "[CV 5/5] END .................model__alpha=0.2;, score=-0.198 total time=   0.0s\n",
      "[CV 1/5] END .model__alpha=0.30000000000000004;, score=-0.194 total time=   0.0s\n",
      "[CV 2/5] END .model__alpha=0.30000000000000004;, score=-0.200 total time=   0.0s\n",
      "[CV 3/5] END .model__alpha=0.30000000000000004;, score=-0.203 total time=   0.0s\n",
      "[CV 4/5] END .model__alpha=0.30000000000000004;, score=-0.198 total time=   0.0s\n",
      "[CV 5/5] END .model__alpha=0.30000000000000004;, score=-0.198 total time=   0.0s\n",
      "[CV 1/5] END .................model__alpha=0.4;, score=-0.194 total time=   0.0s\n",
      "[CV 2/5] END .................model__alpha=0.4;, score=-0.200 total time=   0.0s\n",
      "[CV 3/5] END .................model__alpha=0.4;, score=-0.203 total time=   0.0s\n",
      "[CV 4/5] END .................model__alpha=0.4;, score=-0.198 total time=   0.0s\n",
      "[CV 5/5] END .................model__alpha=0.4;, score=-0.198 total time=   0.0s\n",
      "[CV 1/5] END .................model__alpha=0.5;, score=-0.194 total time=   0.0s\n",
      "[CV 2/5] END .................model__alpha=0.5;, score=-0.200 total time=   0.0s\n",
      "[CV 3/5] END .................model__alpha=0.5;, score=-0.203 total time=   0.0s\n",
      "[CV 4/5] END .................model__alpha=0.5;, score=-0.198 total time=   0.0s\n",
      "[CV 5/5] END .................model__alpha=0.5;, score=-0.198 total time=   0.0s\n",
      "[CV 1/5] END .................model__alpha=0.6;, score=-0.194 total time=   0.0s\n",
      "[CV 2/5] END .................model__alpha=0.6;, score=-0.200 total time=   0.0s\n",
      "[CV 3/5] END .................model__alpha=0.6;, score=-0.203 total time=   0.0s\n",
      "[CV 4/5] END .................model__alpha=0.6;, score=-0.198 total time=   0.0s\n",
      "[CV 5/5] END .................model__alpha=0.6;, score=-0.198 total time=   0.0s\n",
      "[CV 1/5] END ..model__alpha=0.7000000000000001;, score=-0.194 total time=   0.0s\n",
      "[CV 2/5] END ..model__alpha=0.7000000000000001;, score=-0.200 total time=   0.0s\n",
      "[CV 3/5] END ..model__alpha=0.7000000000000001;, score=-0.203 total time=   0.0s\n",
      "[CV 4/5] END ..model__alpha=0.7000000000000001;, score=-0.198 total time=   0.0s\n",
      "[CV 5/5] END ..model__alpha=0.7000000000000001;, score=-0.198 total time=   0.0s\n",
      "[CV 1/5] END .................model__alpha=0.8;, score=-0.194 total time=   0.0s\n",
      "[CV 2/5] END .................model__alpha=0.8;, score=-0.200 total time=   0.0s\n",
      "[CV 3/5] END .................model__alpha=0.8;, score=-0.203 total time=   0.0s\n",
      "[CV 4/5] END .................model__alpha=0.8;, score=-0.198 total time=   0.0s\n",
      "[CV 5/5] END .................model__alpha=0.8;, score=-0.198 total time=   0.0s\n",
      "[CV 1/5] END .................model__alpha=0.9;, score=-0.194 total time=   0.0s\n",
      "[CV 2/5] END .................model__alpha=0.9;, score=-0.200 total time=   0.0s\n",
      "[CV 3/5] END .................model__alpha=0.9;, score=-0.203 total time=   0.0s\n",
      "[CV 4/5] END .................model__alpha=0.9;, score=-0.198 total time=   0.0s\n",
      "[CV 5/5] END .................model__alpha=0.9;, score=-0.198 total time=   0.0s\n",
      "[CV 1/5] END .................model__alpha=1.0;, score=-0.194 total time=   0.0s\n",
      "[CV 2/5] END .................model__alpha=1.0;, score=-0.200 total time=   0.0s\n",
      "[CV 3/5] END .................model__alpha=1.0;, score=-0.203 total time=   0.0s\n",
      "[CV 4/5] END .................model__alpha=1.0;, score=-0.198 total time=   0.0s\n",
      "[CV 5/5] END .................model__alpha=1.0;, score=-0.198 total time=   0.0s\n",
      "[CV 1/5] END .................model__alpha=1.1;, score=-0.194 total time=   0.0s\n",
      "[CV 2/5] END .................model__alpha=1.1;, score=-0.200 total time=   0.0s\n",
      "[CV 3/5] END .................model__alpha=1.1;, score=-0.203 total time=   0.0s\n",
      "[CV 4/5] END .................model__alpha=1.1;, score=-0.198 total time=   0.0s\n",
      "[CV 5/5] END .................model__alpha=1.1;, score=-0.198 total time=   0.0s\n",
      "[CV 1/5] END ..model__alpha=1.2000000000000002;, score=-0.194 total time=   0.0s\n",
      "[CV 2/5] END ..model__alpha=1.2000000000000002;, score=-0.200 total time=   0.0s\n",
      "[CV 3/5] END ..model__alpha=1.2000000000000002;, score=-0.203 total time=   0.0s\n",
      "[CV 4/5] END ..model__alpha=1.2000000000000002;, score=-0.198 total time=   0.0s\n",
      "[CV 5/5] END ..model__alpha=1.2000000000000002;, score=-0.198 total time=   0.0s\n",
      "[CV 1/5] END ..model__alpha=1.3000000000000003;, score=-0.194 total time=   0.0s\n",
      "[CV 2/5] END ..model__alpha=1.3000000000000003;, score=-0.200 total time=   0.0s\n",
      "[CV 3/5] END ..model__alpha=1.3000000000000003;, score=-0.203 total time=   0.0s\n",
      "[CV 4/5] END ..model__alpha=1.3000000000000003;, score=-0.198 total time=   0.0s\n",
      "[CV 5/5] END ..model__alpha=1.3000000000000003;, score=-0.198 total time=   0.0s\n",
      "[CV 1/5] END ..model__alpha=1.4000000000000001;, score=-0.194 total time=   0.0s\n",
      "[CV 2/5] END ..model__alpha=1.4000000000000001;, score=-0.200 total time=   0.0s\n",
      "[CV 3/5] END ..model__alpha=1.4000000000000001;, score=-0.203 total time=   0.0s\n",
      "[CV 4/5] END ..model__alpha=1.4000000000000001;, score=-0.198 total time=   0.0s\n",
      "[CV 5/5] END ..model__alpha=1.4000000000000001;, score=-0.198 total time=   0.0s\n",
      "[CV 1/5] END ..model__alpha=1.5000000000000002;, score=-0.194 total time=   0.0s\n",
      "[CV 2/5] END ..model__alpha=1.5000000000000002;, score=-0.200 total time=   0.0s\n",
      "[CV 3/5] END ..model__alpha=1.5000000000000002;, score=-0.203 total time=   0.0s\n",
      "[CV 4/5] END ..model__alpha=1.5000000000000002;, score=-0.198 total time=   0.0s\n",
      "[CV 5/5] END ..model__alpha=1.5000000000000002;, score=-0.198 total time=   0.0s\n",
      "[CV 1/5] END .................model__alpha=1.6;, score=-0.194 total time=   0.0s\n",
      "[CV 2/5] END .................model__alpha=1.6;, score=-0.200 total time=   0.0s\n",
      "[CV 3/5] END .................model__alpha=1.6;, score=-0.203 total time=   0.0s\n",
      "[CV 4/5] END .................model__alpha=1.6;, score=-0.198 total time=   0.0s\n",
      "[CV 5/5] END .................model__alpha=1.6;, score=-0.198 total time=   0.0s\n",
      "[CV 1/5] END ..model__alpha=1.7000000000000002;, score=-0.194 total time=   0.0s\n",
      "[CV 2/5] END ..model__alpha=1.7000000000000002;, score=-0.200 total time=   0.0s\n",
      "[CV 3/5] END ..model__alpha=1.7000000000000002;, score=-0.203 total time=   0.0s\n",
      "[CV 4/5] END ..model__alpha=1.7000000000000002;, score=-0.198 total time=   0.0s\n",
      "[CV 5/5] END ..model__alpha=1.7000000000000002;, score=-0.198 total time=   0.0s\n",
      "[CV 1/5] END ..model__alpha=1.8000000000000003;, score=-0.194 total time=   0.0s\n",
      "[CV 2/5] END ..model__alpha=1.8000000000000003;, score=-0.200 total time=   0.0s\n",
      "[CV 3/5] END ..model__alpha=1.8000000000000003;, score=-0.203 total time=   0.0s\n",
      "[CV 4/5] END ..model__alpha=1.8000000000000003;, score=-0.198 total time=   0.0s\n",
      "[CV 5/5] END ..model__alpha=1.8000000000000003;, score=-0.198 total time=   0.0s\n",
      "[CV 1/5] END ..model__alpha=1.9000000000000001;, score=-0.194 total time=   0.0s\n",
      "[CV 2/5] END ..model__alpha=1.9000000000000001;, score=-0.200 total time=   0.0s\n",
      "[CV 3/5] END ..model__alpha=1.9000000000000001;, score=-0.203 total time=   0.0s\n",
      "[CV 4/5] END ..model__alpha=1.9000000000000001;, score=-0.198 total time=   0.0s\n",
      "[CV 5/5] END ..model__alpha=1.9000000000000001;, score=-0.198 total time=   0.0s\n",
      "[CV 1/5] END .................model__alpha=2.0;, score=-0.194 total time=   0.0s\n",
      "[CV 2/5] END .................model__alpha=2.0;, score=-0.200 total time=   0.0s\n",
      "[CV 3/5] END .................model__alpha=2.0;, score=-0.203 total time=   0.0s\n",
      "[CV 4/5] END .................model__alpha=2.0;, score=-0.198 total time=   0.0s\n",
      "[CV 5/5] END .................model__alpha=2.0;, score=-0.198 total time=   0.0s\n",
      "[CV 1/5] END .................model__alpha=2.1;, score=-0.194 total time=   0.0s\n",
      "[CV 2/5] END .................model__alpha=2.1;, score=-0.200 total time=   0.0s\n",
      "[CV 3/5] END .................model__alpha=2.1;, score=-0.203 total time=   0.0s\n",
      "[CV 4/5] END .................model__alpha=2.1;, score=-0.198 total time=   0.0s\n",
      "[CV 5/5] END .................model__alpha=2.1;, score=-0.198 total time=   0.0s\n",
      "[CV 1/5] END .................model__alpha=2.2;, score=-0.194 total time=   0.0s\n",
      "[CV 2/5] END .................model__alpha=2.2;, score=-0.200 total time=   0.0s\n",
      "[CV 3/5] END .................model__alpha=2.2;, score=-0.203 total time=   0.0s\n",
      "[CV 4/5] END .................model__alpha=2.2;, score=-0.198 total time=   0.0s\n",
      "[CV 5/5] END .................model__alpha=2.2;, score=-0.198 total time=   0.0s\n",
      "[CV 1/5] END ..model__alpha=2.3000000000000003;, score=-0.194 total time=   0.0s\n",
      "[CV 2/5] END ..model__alpha=2.3000000000000003;, score=-0.200 total time=   0.0s\n",
      "[CV 3/5] END ..model__alpha=2.3000000000000003;, score=-0.203 total time=   0.0s\n",
      "[CV 4/5] END ..model__alpha=2.3000000000000003;, score=-0.198 total time=   0.0s\n",
      "[CV 5/5] END ..model__alpha=2.3000000000000003;, score=-0.198 total time=   0.0s\n",
      "[CV 1/5] END ..model__alpha=2.4000000000000004;, score=-0.194 total time=   0.0s\n",
      "[CV 2/5] END ..model__alpha=2.4000000000000004;, score=-0.200 total time=   0.0s\n",
      "[CV 3/5] END ..model__alpha=2.4000000000000004;, score=-0.203 total time=   0.0s\n",
      "[CV 4/5] END ..model__alpha=2.4000000000000004;, score=-0.198 total time=   0.0s\n",
      "[CV 5/5] END ..model__alpha=2.4000000000000004;, score=-0.198 total time=   0.0s\n",
      "[CV 1/5] END ..model__alpha=2.5000000000000004;, score=-0.194 total time=   0.0s\n"
     ]
    },
    {
     "name": "stdout",
     "output_type": "stream",
     "text": [
      "[CV 2/5] END ..model__alpha=2.5000000000000004;, score=-0.200 total time=   0.0s\n",
      "[CV 3/5] END ..model__alpha=2.5000000000000004;, score=-0.203 total time=   0.0s\n",
      "[CV 4/5] END ..model__alpha=2.5000000000000004;, score=-0.198 total time=   0.0s\n",
      "[CV 5/5] END ..model__alpha=2.5000000000000004;, score=-0.198 total time=   0.0s\n",
      "[CV 1/5] END .................model__alpha=2.6;, score=-0.194 total time=   0.0s\n",
      "[CV 2/5] END .................model__alpha=2.6;, score=-0.200 total time=   0.0s\n",
      "[CV 3/5] END .................model__alpha=2.6;, score=-0.203 total time=   0.0s\n",
      "[CV 4/5] END .................model__alpha=2.6;, score=-0.198 total time=   0.0s\n",
      "[CV 5/5] END .................model__alpha=2.6;, score=-0.198 total time=   0.0s\n",
      "[CV 1/5] END .................model__alpha=2.7;, score=-0.194 total time=   0.0s\n",
      "[CV 2/5] END .................model__alpha=2.7;, score=-0.200 total time=   0.0s\n",
      "[CV 3/5] END .................model__alpha=2.7;, score=-0.203 total time=   0.0s\n",
      "[CV 4/5] END .................model__alpha=2.7;, score=-0.198 total time=   0.0s\n",
      "[CV 5/5] END .................model__alpha=2.7;, score=-0.198 total time=   0.0s\n",
      "[CV 1/5] END ..model__alpha=2.8000000000000003;, score=-0.194 total time=   0.0s\n",
      "[CV 2/5] END ..model__alpha=2.8000000000000003;, score=-0.200 total time=   0.0s\n",
      "[CV 3/5] END ..model__alpha=2.8000000000000003;, score=-0.203 total time=   0.0s\n",
      "[CV 4/5] END ..model__alpha=2.8000000000000003;, score=-0.198 total time=   0.0s\n",
      "[CV 5/5] END ..model__alpha=2.8000000000000003;, score=-0.198 total time=   0.0s\n",
      "[CV 1/5] END ..model__alpha=2.9000000000000004;, score=-0.194 total time=   0.0s\n",
      "[CV 2/5] END ..model__alpha=2.9000000000000004;, score=-0.200 total time=   0.0s\n",
      "[CV 3/5] END ..model__alpha=2.9000000000000004;, score=-0.203 total time=   0.0s\n",
      "[CV 4/5] END ..model__alpha=2.9000000000000004;, score=-0.198 total time=   0.0s\n",
      "[CV 5/5] END ..model__alpha=2.9000000000000004;, score=-0.198 total time=   0.0s\n",
      "[CV 1/5] END ..model__alpha=3.0000000000000004;, score=-0.194 total time=   0.0s\n",
      "[CV 2/5] END ..model__alpha=3.0000000000000004;, score=-0.200 total time=   0.0s\n",
      "[CV 3/5] END ..model__alpha=3.0000000000000004;, score=-0.203 total time=   0.0s\n",
      "[CV 4/5] END ..model__alpha=3.0000000000000004;, score=-0.198 total time=   0.0s\n",
      "[CV 5/5] END ..model__alpha=3.0000000000000004;, score=-0.198 total time=   0.0s\n",
      "[CV 1/5] END .................model__alpha=3.1;, score=-0.194 total time=   0.0s\n",
      "[CV 2/5] END .................model__alpha=3.1;, score=-0.200 total time=   0.0s\n",
      "[CV 3/5] END .................model__alpha=3.1;, score=-0.203 total time=   0.0s\n",
      "[CV 4/5] END .................model__alpha=3.1;, score=-0.198 total time=   0.0s\n",
      "[CV 5/5] END .................model__alpha=3.1;, score=-0.198 total time=   0.0s\n",
      "[CV 1/5] END .................model__alpha=3.2;, score=-0.194 total time=   0.0s\n",
      "[CV 2/5] END .................model__alpha=3.2;, score=-0.200 total time=   0.0s\n",
      "[CV 3/5] END .................model__alpha=3.2;, score=-0.203 total time=   0.0s\n",
      "[CV 4/5] END .................model__alpha=3.2;, score=-0.198 total time=   0.0s\n",
      "[CV 5/5] END .................model__alpha=3.2;, score=-0.198 total time=   0.0s\n",
      "[CV 1/5] END ..model__alpha=3.3000000000000003;, score=-0.194 total time=   0.0s\n",
      "[CV 2/5] END ..model__alpha=3.3000000000000003;, score=-0.200 total time=   0.0s\n",
      "[CV 3/5] END ..model__alpha=3.3000000000000003;, score=-0.203 total time=   0.0s\n",
      "[CV 4/5] END ..model__alpha=3.3000000000000003;, score=-0.198 total time=   0.0s\n",
      "[CV 5/5] END ..model__alpha=3.3000000000000003;, score=-0.198 total time=   0.0s\n",
      "[CV 1/5] END ..model__alpha=3.4000000000000004;, score=-0.194 total time=   0.0s\n",
      "[CV 2/5] END ..model__alpha=3.4000000000000004;, score=-0.200 total time=   0.0s\n",
      "[CV 3/5] END ..model__alpha=3.4000000000000004;, score=-0.203 total time=   0.0s\n",
      "[CV 4/5] END ..model__alpha=3.4000000000000004;, score=-0.198 total time=   0.0s\n",
      "[CV 5/5] END ..model__alpha=3.4000000000000004;, score=-0.198 total time=   0.0s\n",
      "[CV 1/5] END ..model__alpha=3.5000000000000004;, score=-0.194 total time=   0.0s\n",
      "[CV 2/5] END ..model__alpha=3.5000000000000004;, score=-0.200 total time=   0.0s\n",
      "[CV 3/5] END ..model__alpha=3.5000000000000004;, score=-0.203 total time=   0.0s\n",
      "[CV 4/5] END ..model__alpha=3.5000000000000004;, score=-0.198 total time=   0.0s\n",
      "[CV 5/5] END ..model__alpha=3.5000000000000004;, score=-0.198 total time=   0.0s\n",
      "[CV 1/5] END .................model__alpha=3.6;, score=-0.194 total time=   0.0s\n",
      "[CV 2/5] END .................model__alpha=3.6;, score=-0.200 total time=   0.0s\n",
      "[CV 3/5] END .................model__alpha=3.6;, score=-0.203 total time=   0.0s\n",
      "[CV 4/5] END .................model__alpha=3.6;, score=-0.198 total time=   0.0s\n",
      "[CV 5/5] END .................model__alpha=3.6;, score=-0.198 total time=   0.0s\n",
      "[CV 1/5] END .................model__alpha=3.7;, score=-0.194 total time=   0.0s\n",
      "[CV 2/5] END .................model__alpha=3.7;, score=-0.200 total time=   0.0s\n",
      "[CV 3/5] END .................model__alpha=3.7;, score=-0.203 total time=   0.0s\n",
      "[CV 4/5] END .................model__alpha=3.7;, score=-0.198 total time=   0.0s\n",
      "[CV 5/5] END .................model__alpha=3.7;, score=-0.198 total time=   0.0s\n",
      "[CV 1/5] END ..model__alpha=3.8000000000000003;, score=-0.194 total time=   0.0s\n",
      "[CV 2/5] END ..model__alpha=3.8000000000000003;, score=-0.200 total time=   0.0s\n",
      "[CV 3/5] END ..model__alpha=3.8000000000000003;, score=-0.203 total time=   0.0s\n",
      "[CV 4/5] END ..model__alpha=3.8000000000000003;, score=-0.198 total time=   0.0s\n",
      "[CV 5/5] END ..model__alpha=3.8000000000000003;, score=-0.198 total time=   0.0s\n",
      "[CV 1/5] END ..model__alpha=3.9000000000000004;, score=-0.194 total time=   0.0s\n",
      "[CV 2/5] END ..model__alpha=3.9000000000000004;, score=-0.200 total time=   0.0s\n",
      "[CV 3/5] END ..model__alpha=3.9000000000000004;, score=-0.203 total time=   0.0s\n",
      "[CV 4/5] END ..model__alpha=3.9000000000000004;, score=-0.198 total time=   0.0s\n",
      "[CV 5/5] END ..model__alpha=3.9000000000000004;, score=-0.198 total time=   0.0s\n",
      "[CV 1/5] END .................model__alpha=4.0;, score=-0.194 total time=   0.0s\n",
      "[CV 2/5] END .................model__alpha=4.0;, score=-0.200 total time=   0.0s\n",
      "[CV 3/5] END .................model__alpha=4.0;, score=-0.203 total time=   0.0s\n",
      "[CV 4/5] END .................model__alpha=4.0;, score=-0.198 total time=   0.0s\n",
      "[CV 5/5] END .................model__alpha=4.0;, score=-0.198 total time=   0.0s\n",
      "[CV 1/5] END .................model__alpha=4.1;, score=-0.194 total time=   0.0s\n",
      "[CV 2/5] END .................model__alpha=4.1;, score=-0.200 total time=   0.0s\n",
      "[CV 3/5] END .................model__alpha=4.1;, score=-0.203 total time=   0.0s\n",
      "[CV 4/5] END .................model__alpha=4.1;, score=-0.198 total time=   0.0s\n",
      "[CV 5/5] END .................model__alpha=4.1;, score=-0.198 total time=   0.0s\n",
      "[CV 1/5] END .................model__alpha=4.2;, score=-0.194 total time=   0.0s\n",
      "[CV 2/5] END .................model__alpha=4.2;, score=-0.200 total time=   0.0s\n",
      "[CV 3/5] END .................model__alpha=4.2;, score=-0.203 total time=   0.0s\n",
      "[CV 4/5] END .................model__alpha=4.2;, score=-0.198 total time=   0.0s\n",
      "[CV 5/5] END .................model__alpha=4.2;, score=-0.198 total time=   0.0s\n",
      "[CV 1/5] END .................model__alpha=4.3;, score=-0.194 total time=   0.0s\n",
      "[CV 2/5] END .................model__alpha=4.3;, score=-0.200 total time=   0.0s\n",
      "[CV 3/5] END .................model__alpha=4.3;, score=-0.203 total time=   0.0s\n",
      "[CV 4/5] END .................model__alpha=4.3;, score=-0.198 total time=   0.0s\n",
      "[CV 5/5] END .................model__alpha=4.3;, score=-0.198 total time=   0.0s\n",
      "[CV 1/5] END ..model__alpha=4.3999999999999995;, score=-0.194 total time=   0.0s\n",
      "[CV 2/5] END ..model__alpha=4.3999999999999995;, score=-0.200 total time=   0.0s\n",
      "[CV 3/5] END ..model__alpha=4.3999999999999995;, score=-0.203 total time=   0.0s\n",
      "[CV 4/5] END ..model__alpha=4.3999999999999995;, score=-0.198 total time=   0.0s\n",
      "[CV 5/5] END ..model__alpha=4.3999999999999995;, score=-0.198 total time=   0.0s\n",
      "[CV 1/5] END .................model__alpha=4.5;, score=-0.194 total time=   0.0s\n",
      "[CV 2/5] END .................model__alpha=4.5;, score=-0.200 total time=   0.0s\n",
      "[CV 3/5] END .................model__alpha=4.5;, score=-0.203 total time=   0.0s\n",
      "[CV 4/5] END .................model__alpha=4.5;, score=-0.198 total time=   0.0s\n",
      "[CV 5/5] END .................model__alpha=4.5;, score=-0.198 total time=   0.0s\n",
      "[CV 1/5] END .................model__alpha=4.6;, score=-0.194 total time=   0.0s\n",
      "[CV 2/5] END .................model__alpha=4.6;, score=-0.200 total time=   0.0s\n"
     ]
    },
    {
     "name": "stdout",
     "output_type": "stream",
     "text": [
      "[CV 3/5] END .................model__alpha=4.6;, score=-0.203 total time=   0.0s\n",
      "[CV 4/5] END .................model__alpha=4.6;, score=-0.198 total time=   0.0s\n",
      "[CV 5/5] END .................model__alpha=4.6;, score=-0.198 total time=   0.0s\n",
      "[CV 1/5] END .................model__alpha=4.7;, score=-0.194 total time=   0.0s\n",
      "[CV 2/5] END .................model__alpha=4.7;, score=-0.200 total time=   0.0s\n",
      "[CV 3/5] END .................model__alpha=4.7;, score=-0.203 total time=   0.0s\n",
      "[CV 4/5] END .................model__alpha=4.7;, score=-0.198 total time=   0.0s\n",
      "[CV 5/5] END .................model__alpha=4.7;, score=-0.198 total time=   0.0s\n",
      "[CV 1/5] END .................model__alpha=4.8;, score=-0.194 total time=   0.0s\n",
      "[CV 2/5] END .................model__alpha=4.8;, score=-0.200 total time=   0.0s\n",
      "[CV 3/5] END .................model__alpha=4.8;, score=-0.203 total time=   0.0s\n",
      "[CV 4/5] END .................model__alpha=4.8;, score=-0.198 total time=   0.0s\n",
      "[CV 5/5] END .................model__alpha=4.8;, score=-0.198 total time=   0.0s\n",
      "[CV 1/5] END .................model__alpha=4.9;, score=-0.194 total time=   0.0s\n",
      "[CV 2/5] END .................model__alpha=4.9;, score=-0.200 total time=   0.0s\n",
      "[CV 3/5] END .................model__alpha=4.9;, score=-0.203 total time=   0.0s\n",
      "[CV 4/5] END .................model__alpha=4.9;, score=-0.198 total time=   0.0s\n",
      "[CV 5/5] END .................model__alpha=4.9;, score=-0.198 total time=   0.0s\n",
      "[CV 1/5] END .................model__alpha=5.0;, score=-0.194 total time=   0.0s\n",
      "[CV 2/5] END .................model__alpha=5.0;, score=-0.200 total time=   0.0s\n",
      "[CV 3/5] END .................model__alpha=5.0;, score=-0.203 total time=   0.0s\n",
      "[CV 4/5] END .................model__alpha=5.0;, score=-0.198 total time=   0.0s\n",
      "[CV 5/5] END .................model__alpha=5.0;, score=-0.198 total time=   0.0s\n",
      "[CV 1/5] END .................model__alpha=5.1;, score=-0.194 total time=   0.0s\n",
      "[CV 2/5] END .................model__alpha=5.1;, score=-0.200 total time=   0.0s\n",
      "[CV 3/5] END .................model__alpha=5.1;, score=-0.203 total time=   0.0s\n",
      "[CV 4/5] END .................model__alpha=5.1;, score=-0.198 total time=   0.0s\n",
      "[CV 5/5] END .................model__alpha=5.1;, score=-0.198 total time=   0.0s\n",
      "[CV 1/5] END .................model__alpha=5.2;, score=-0.194 total time=   0.0s\n",
      "[CV 2/5] END .................model__alpha=5.2;, score=-0.200 total time=   0.0s\n",
      "[CV 3/5] END .................model__alpha=5.2;, score=-0.203 total time=   0.0s\n",
      "[CV 4/5] END .................model__alpha=5.2;, score=-0.198 total time=   0.0s\n",
      "[CV 5/5] END .................model__alpha=5.2;, score=-0.198 total time=   0.0s\n",
      "[CV 1/5] END .................model__alpha=5.3;, score=-0.194 total time=   0.0s\n",
      "[CV 2/5] END .................model__alpha=5.3;, score=-0.200 total time=   0.0s\n",
      "[CV 3/5] END .................model__alpha=5.3;, score=-0.203 total time=   0.0s\n",
      "[CV 4/5] END .................model__alpha=5.3;, score=-0.198 total time=   0.0s\n",
      "[CV 5/5] END .................model__alpha=5.3;, score=-0.198 total time=   0.0s\n",
      "[CV 1/5] END .................model__alpha=5.4;, score=-0.194 total time=   0.0s\n",
      "[CV 2/5] END .................model__alpha=5.4;, score=-0.200 total time=   0.0s\n",
      "[CV 3/5] END .................model__alpha=5.4;, score=-0.203 total time=   0.0s\n",
      "[CV 4/5] END .................model__alpha=5.4;, score=-0.198 total time=   0.0s\n",
      "[CV 5/5] END .................model__alpha=5.4;, score=-0.198 total time=   0.0s\n",
      "[CV 1/5] END .................model__alpha=5.5;, score=-0.194 total time=   0.0s\n",
      "[CV 2/5] END .................model__alpha=5.5;, score=-0.200 total time=   0.0s\n",
      "[CV 3/5] END .................model__alpha=5.5;, score=-0.203 total time=   0.0s\n",
      "[CV 4/5] END .................model__alpha=5.5;, score=-0.198 total time=   0.0s\n",
      "[CV 5/5] END .................model__alpha=5.5;, score=-0.198 total time=   0.0s\n",
      "[CV 1/5] END .................model__alpha=5.6;, score=-0.194 total time=   0.0s\n",
      "[CV 2/5] END .................model__alpha=5.6;, score=-0.200 total time=   0.0s\n",
      "[CV 3/5] END .................model__alpha=5.6;, score=-0.203 total time=   0.0s\n",
      "[CV 4/5] END .................model__alpha=5.6;, score=-0.198 total time=   0.0s\n",
      "[CV 5/5] END .................model__alpha=5.6;, score=-0.198 total time=   0.0s\n",
      "[CV 1/5] END .................model__alpha=5.7;, score=-0.194 total time=   0.0s\n",
      "[CV 2/5] END .................model__alpha=5.7;, score=-0.200 total time=   0.0s\n",
      "[CV 3/5] END .................model__alpha=5.7;, score=-0.203 total time=   0.0s\n",
      "[CV 4/5] END .................model__alpha=5.7;, score=-0.198 total time=   0.0s\n",
      "[CV 5/5] END .................model__alpha=5.7;, score=-0.198 total time=   0.0s\n",
      "[CV 1/5] END .................model__alpha=5.8;, score=-0.194 total time=   0.0s\n",
      "[CV 2/5] END .................model__alpha=5.8;, score=-0.200 total time=   0.0s\n",
      "[CV 3/5] END .................model__alpha=5.8;, score=-0.203 total time=   0.0s\n",
      "[CV 4/5] END .................model__alpha=5.8;, score=-0.198 total time=   0.0s\n",
      "[CV 5/5] END .................model__alpha=5.8;, score=-0.198 total time=   0.0s\n",
      "[CV 1/5] END .................model__alpha=5.9;, score=-0.194 total time=   0.0s\n",
      "[CV 2/5] END .................model__alpha=5.9;, score=-0.200 total time=   0.0s\n",
      "[CV 3/5] END .................model__alpha=5.9;, score=-0.203 total time=   0.0s\n",
      "[CV 4/5] END .................model__alpha=5.9;, score=-0.198 total time=   0.0s\n",
      "[CV 5/5] END .................model__alpha=5.9;, score=-0.198 total time=   0.0s\n",
      "[CV 1/5] END .................model__alpha=6.0;, score=-0.194 total time=   0.0s\n",
      "[CV 2/5] END .................model__alpha=6.0;, score=-0.200 total time=   0.0s\n",
      "[CV 3/5] END .................model__alpha=6.0;, score=-0.203 total time=   0.0s\n",
      "[CV 4/5] END .................model__alpha=6.0;, score=-0.198 total time=   0.0s\n",
      "[CV 5/5] END .................model__alpha=6.0;, score=-0.198 total time=   0.0s\n",
      "[CV 1/5] END .................model__alpha=6.1;, score=-0.194 total time=   0.0s\n",
      "[CV 2/5] END .................model__alpha=6.1;, score=-0.200 total time=   0.0s\n",
      "[CV 3/5] END .................model__alpha=6.1;, score=-0.203 total time=   0.0s\n",
      "[CV 4/5] END .................model__alpha=6.1;, score=-0.198 total time=   0.0s\n",
      "[CV 5/5] END .................model__alpha=6.1;, score=-0.198 total time=   0.0s\n",
      "[CV 1/5] END .................model__alpha=6.2;, score=-0.194 total time=   0.0s\n",
      "[CV 2/5] END .................model__alpha=6.2;, score=-0.200 total time=   0.0s\n",
      "[CV 3/5] END .................model__alpha=6.2;, score=-0.203 total time=   0.0s\n",
      "[CV 4/5] END .................model__alpha=6.2;, score=-0.198 total time=   0.0s\n",
      "[CV 5/5] END .................model__alpha=6.2;, score=-0.198 total time=   0.0s\n",
      "[CV 1/5] END .................model__alpha=6.3;, score=-0.194 total time=   0.0s\n",
      "[CV 2/5] END .................model__alpha=6.3;, score=-0.200 total time=   0.0s\n",
      "[CV 3/5] END .................model__alpha=6.3;, score=-0.203 total time=   0.0s\n",
      "[CV 4/5] END .................model__alpha=6.3;, score=-0.198 total time=   0.0s\n",
      "[CV 5/5] END .................model__alpha=6.3;, score=-0.198 total time=   0.0s\n",
      "[CV 1/5] END .................model__alpha=6.4;, score=-0.194 total time=   0.0s\n",
      "[CV 2/5] END .................model__alpha=6.4;, score=-0.200 total time=   0.0s\n",
      "[CV 3/5] END .................model__alpha=6.4;, score=-0.203 total time=   0.0s\n",
      "[CV 4/5] END .................model__alpha=6.4;, score=-0.198 total time=   0.0s\n",
      "[CV 5/5] END .................model__alpha=6.4;, score=-0.198 total time=   0.0s\n",
      "[CV 1/5] END .................model__alpha=6.5;, score=-0.194 total time=   0.0s\n",
      "[CV 2/5] END .................model__alpha=6.5;, score=-0.200 total time=   0.0s\n",
      "[CV 3/5] END .................model__alpha=6.5;, score=-0.203 total time=   0.0s\n",
      "[CV 4/5] END .................model__alpha=6.5;, score=-0.198 total time=   0.0s\n",
      "[CV 5/5] END .................model__alpha=6.5;, score=-0.198 total time=   0.0s\n",
      "[CV 1/5] END .................model__alpha=6.6;, score=-0.194 total time=   0.0s\n",
      "[CV 2/5] END .................model__alpha=6.6;, score=-0.200 total time=   0.0s\n",
      "[CV 3/5] END .................model__alpha=6.6;, score=-0.203 total time=   0.0s\n",
      "[CV 4/5] END .................model__alpha=6.6;, score=-0.198 total time=   0.0s\n",
      "[CV 5/5] END .................model__alpha=6.6;, score=-0.198 total time=   0.0s\n",
      "[CV 1/5] END .................model__alpha=6.7;, score=-0.194 total time=   0.0s\n",
      "[CV 2/5] END .................model__alpha=6.7;, score=-0.200 total time=   0.0s\n",
      "[CV 3/5] END .................model__alpha=6.7;, score=-0.203 total time=   0.0s\n",
      "[CV 4/5] END .................model__alpha=6.7;, score=-0.198 total time=   0.0s\n",
      "[CV 5/5] END .................model__alpha=6.7;, score=-0.198 total time=   0.0s\n",
      "[CV 1/5] END .................model__alpha=6.8;, score=-0.194 total time=   0.0s\n",
      "[CV 2/5] END .................model__alpha=6.8;, score=-0.200 total time=   0.0s\n",
      "[CV 3/5] END .................model__alpha=6.8;, score=-0.203 total time=   0.0s\n"
     ]
    },
    {
     "name": "stdout",
     "output_type": "stream",
     "text": [
      "[CV 4/5] END .................model__alpha=6.8;, score=-0.198 total time=   0.0s\n",
      "[CV 5/5] END .................model__alpha=6.8;, score=-0.198 total time=   0.0s\n",
      "[CV 1/5] END .................model__alpha=6.9;, score=-0.194 total time=   0.0s\n",
      "[CV 2/5] END .................model__alpha=6.9;, score=-0.200 total time=   0.0s\n",
      "[CV 3/5] END .................model__alpha=6.9;, score=-0.203 total time=   0.0s\n",
      "[CV 4/5] END .................model__alpha=6.9;, score=-0.198 total time=   0.0s\n",
      "[CV 5/5] END .................model__alpha=6.9;, score=-0.198 total time=   0.0s\n",
      "[CV 1/5] END .................model__alpha=7.0;, score=-0.194 total time=   0.0s\n",
      "[CV 2/5] END .................model__alpha=7.0;, score=-0.200 total time=   0.0s\n",
      "[CV 3/5] END .................model__alpha=7.0;, score=-0.203 total time=   0.0s\n",
      "[CV 4/5] END .................model__alpha=7.0;, score=-0.198 total time=   0.0s\n",
      "[CV 5/5] END .................model__alpha=7.0;, score=-0.198 total time=   0.0s\n",
      "[CV 1/5] END .................model__alpha=7.1;, score=-0.194 total time=   0.0s\n",
      "[CV 2/5] END .................model__alpha=7.1;, score=-0.200 total time=   0.0s\n",
      "[CV 3/5] END .................model__alpha=7.1;, score=-0.203 total time=   0.0s\n",
      "[CV 4/5] END .................model__alpha=7.1;, score=-0.198 total time=   0.0s\n",
      "[CV 5/5] END .................model__alpha=7.1;, score=-0.198 total time=   0.0s\n",
      "[CV 1/5] END .................model__alpha=7.2;, score=-0.194 total time=   0.0s\n",
      "[CV 2/5] END .................model__alpha=7.2;, score=-0.200 total time=   0.0s\n",
      "[CV 3/5] END .................model__alpha=7.2;, score=-0.203 total time=   0.0s\n",
      "[CV 4/5] END .................model__alpha=7.2;, score=-0.198 total time=   0.0s\n",
      "[CV 5/5] END .................model__alpha=7.2;, score=-0.198 total time=   0.0s\n",
      "[CV 1/5] END .................model__alpha=7.3;, score=-0.194 total time=   0.0s\n",
      "[CV 2/5] END .................model__alpha=7.3;, score=-0.200 total time=   0.0s\n",
      "[CV 3/5] END .................model__alpha=7.3;, score=-0.203 total time=   0.0s\n",
      "[CV 4/5] END .................model__alpha=7.3;, score=-0.198 total time=   0.0s\n",
      "[CV 5/5] END .................model__alpha=7.3;, score=-0.198 total time=   0.0s\n",
      "[CV 1/5] END .................model__alpha=7.4;, score=-0.194 total time=   0.0s\n",
      "[CV 2/5] END .................model__alpha=7.4;, score=-0.200 total time=   0.0s\n",
      "[CV 3/5] END .................model__alpha=7.4;, score=-0.203 total time=   0.0s\n",
      "[CV 4/5] END .................model__alpha=7.4;, score=-0.198 total time=   0.0s\n",
      "[CV 5/5] END .................model__alpha=7.4;, score=-0.198 total time=   0.0s\n",
      "[CV 1/5] END .................model__alpha=7.5;, score=-0.194 total time=   0.0s\n",
      "[CV 2/5] END .................model__alpha=7.5;, score=-0.200 total time=   0.0s\n",
      "[CV 3/5] END .................model__alpha=7.5;, score=-0.203 total time=   0.0s\n",
      "[CV 4/5] END .................model__alpha=7.5;, score=-0.198 total time=   0.0s\n",
      "[CV 5/5] END .................model__alpha=7.5;, score=-0.198 total time=   0.0s\n",
      "[CV 1/5] END .................model__alpha=7.6;, score=-0.194 total time=   0.0s\n",
      "[CV 2/5] END .................model__alpha=7.6;, score=-0.200 total time=   0.0s\n",
      "[CV 3/5] END .................model__alpha=7.6;, score=-0.203 total time=   0.0s\n",
      "[CV 4/5] END .................model__alpha=7.6;, score=-0.198 total time=   0.0s\n",
      "[CV 5/5] END .................model__alpha=7.6;, score=-0.198 total time=   0.0s\n",
      "[CV 1/5] END .................model__alpha=7.7;, score=-0.194 total time=   0.0s\n",
      "[CV 2/5] END .................model__alpha=7.7;, score=-0.200 total time=   0.0s\n",
      "[CV 3/5] END .................model__alpha=7.7;, score=-0.203 total time=   0.0s\n",
      "[CV 4/5] END .................model__alpha=7.7;, score=-0.198 total time=   0.0s\n",
      "[CV 5/5] END .................model__alpha=7.7;, score=-0.198 total time=   0.0s\n",
      "[CV 1/5] END .................model__alpha=7.8;, score=-0.194 total time=   0.0s\n",
      "[CV 2/5] END .................model__alpha=7.8;, score=-0.200 total time=   0.0s\n",
      "[CV 3/5] END .................model__alpha=7.8;, score=-0.203 total time=   0.0s\n",
      "[CV 4/5] END .................model__alpha=7.8;, score=-0.198 total time=   0.0s\n",
      "[CV 5/5] END .................model__alpha=7.8;, score=-0.198 total time=   0.0s\n",
      "[CV 1/5] END .................model__alpha=7.9;, score=-0.194 total time=   0.0s\n",
      "[CV 2/5] END .................model__alpha=7.9;, score=-0.200 total time=   0.0s\n",
      "[CV 3/5] END .................model__alpha=7.9;, score=-0.203 total time=   0.0s\n",
      "[CV 4/5] END .................model__alpha=7.9;, score=-0.198 total time=   0.0s\n",
      "[CV 5/5] END .................model__alpha=7.9;, score=-0.198 total time=   0.0s\n",
      "[CV 1/5] END .................model__alpha=8.0;, score=-0.194 total time=   0.0s\n",
      "[CV 2/5] END .................model__alpha=8.0;, score=-0.200 total time=   0.0s\n",
      "[CV 3/5] END .................model__alpha=8.0;, score=-0.203 total time=   0.0s\n",
      "[CV 4/5] END .................model__alpha=8.0;, score=-0.198 total time=   0.0s\n",
      "[CV 5/5] END .................model__alpha=8.0;, score=-0.198 total time=   0.0s\n",
      "[CV 1/5] END .................model__alpha=8.1;, score=-0.194 total time=   0.0s\n",
      "[CV 2/5] END .................model__alpha=8.1;, score=-0.200 total time=   0.0s\n",
      "[CV 3/5] END .................model__alpha=8.1;, score=-0.203 total time=   0.0s\n",
      "[CV 4/5] END .................model__alpha=8.1;, score=-0.198 total time=   0.0s\n",
      "[CV 5/5] END .................model__alpha=8.1;, score=-0.198 total time=   0.0s\n",
      "[CV 1/5] END .................model__alpha=8.2;, score=-0.194 total time=   0.0s\n",
      "[CV 2/5] END .................model__alpha=8.2;, score=-0.200 total time=   0.0s\n",
      "[CV 3/5] END .................model__alpha=8.2;, score=-0.203 total time=   0.0s\n",
      "[CV 4/5] END .................model__alpha=8.2;, score=-0.198 total time=   0.0s\n",
      "[CV 5/5] END .................model__alpha=8.2;, score=-0.198 total time=   0.0s\n",
      "[CV 1/5] END .................model__alpha=8.3;, score=-0.194 total time=   0.0s\n",
      "[CV 2/5] END .................model__alpha=8.3;, score=-0.200 total time=   0.0s\n",
      "[CV 3/5] END .................model__alpha=8.3;, score=-0.203 total time=   0.0s\n",
      "[CV 4/5] END .................model__alpha=8.3;, score=-0.198 total time=   0.0s\n",
      "[CV 5/5] END .................model__alpha=8.3;, score=-0.198 total time=   0.0s\n",
      "[CV 1/5] END .................model__alpha=8.4;, score=-0.194 total time=   0.0s\n",
      "[CV 2/5] END .................model__alpha=8.4;, score=-0.200 total time=   0.0s\n",
      "[CV 3/5] END .................model__alpha=8.4;, score=-0.203 total time=   0.0s\n",
      "[CV 4/5] END .................model__alpha=8.4;, score=-0.198 total time=   0.0s\n",
      "[CV 5/5] END .................model__alpha=8.4;, score=-0.198 total time=   0.0s\n",
      "[CV 1/5] END .................model__alpha=8.5;, score=-0.194 total time=   0.0s\n",
      "[CV 2/5] END .................model__alpha=8.5;, score=-0.200 total time=   0.0s\n",
      "[CV 3/5] END .................model__alpha=8.5;, score=-0.203 total time=   0.0s\n",
      "[CV 4/5] END .................model__alpha=8.5;, score=-0.198 total time=   0.0s\n",
      "[CV 5/5] END .................model__alpha=8.5;, score=-0.198 total time=   0.0s\n",
      "[CV 1/5] END .................model__alpha=8.6;, score=-0.194 total time=   0.0s\n",
      "[CV 2/5] END .................model__alpha=8.6;, score=-0.200 total time=   0.0s\n",
      "[CV 3/5] END .................model__alpha=8.6;, score=-0.203 total time=   0.0s\n",
      "[CV 4/5] END .................model__alpha=8.6;, score=-0.198 total time=   0.0s\n",
      "[CV 5/5] END .................model__alpha=8.6;, score=-0.198 total time=   0.0s\n",
      "[CV 1/5] END .................model__alpha=8.7;, score=-0.194 total time=   0.0s\n",
      "[CV 2/5] END .................model__alpha=8.7;, score=-0.200 total time=   0.0s\n",
      "[CV 3/5] END .................model__alpha=8.7;, score=-0.203 total time=   0.0s\n",
      "[CV 4/5] END .................model__alpha=8.7;, score=-0.198 total time=   0.0s\n",
      "[CV 5/5] END .................model__alpha=8.7;, score=-0.198 total time=   0.0s\n",
      "[CV 1/5] END .................model__alpha=8.8;, score=-0.194 total time=   0.0s\n",
      "[CV 2/5] END .................model__alpha=8.8;, score=-0.200 total time=   0.0s\n",
      "[CV 3/5] END .................model__alpha=8.8;, score=-0.203 total time=   0.0s\n",
      "[CV 4/5] END .................model__alpha=8.8;, score=-0.198 total time=   0.0s\n",
      "[CV 5/5] END .................model__alpha=8.8;, score=-0.198 total time=   0.0s\n",
      "[CV 1/5] END .................model__alpha=8.9;, score=-0.194 total time=   0.0s\n",
      "[CV 2/5] END .................model__alpha=8.9;, score=-0.200 total time=   0.0s\n",
      "[CV 3/5] END .................model__alpha=8.9;, score=-0.203 total time=   0.0s\n",
      "[CV 4/5] END .................model__alpha=8.9;, score=-0.198 total time=   0.0s\n",
      "[CV 5/5] END .................model__alpha=8.9;, score=-0.198 total time=   0.0s\n",
      "[CV 1/5] END .................model__alpha=9.0;, score=-0.194 total time=   0.0s\n",
      "[CV 2/5] END .................model__alpha=9.0;, score=-0.200 total time=   0.0s\n",
      "[CV 3/5] END .................model__alpha=9.0;, score=-0.203 total time=   0.0s\n",
      "[CV 4/5] END .................model__alpha=9.0;, score=-0.198 total time=   0.0s\n",
      "[CV 5/5] END .................model__alpha=9.0;, score=-0.198 total time=   0.0s\n",
      "[CV 1/5] END .................model__alpha=9.1;, score=-0.194 total time=   0.0s\n",
      "[CV 2/5] END .................model__alpha=9.1;, score=-0.200 total time=   0.0s\n",
      "[CV 3/5] END .................model__alpha=9.1;, score=-0.203 total time=   0.0s\n",
      "[CV 4/5] END .................model__alpha=9.1;, score=-0.198 total time=   0.0s\n",
      "[CV 5/5] END .................model__alpha=9.1;, score=-0.198 total time=   0.0s\n",
      "[CV 1/5] END .................model__alpha=9.2;, score=-0.194 total time=   0.0s\n",
      "[CV 2/5] END .................model__alpha=9.2;, score=-0.200 total time=   0.0s\n",
      "[CV 3/5] END .................model__alpha=9.2;, score=-0.203 total time=   0.0s\n",
      "[CV 4/5] END .................model__alpha=9.2;, score=-0.198 total time=   0.0s\n",
      "[CV 5/5] END .................model__alpha=9.2;, score=-0.198 total time=   0.0s\n",
      "[CV 1/5] END .................model__alpha=9.3;, score=-0.194 total time=   0.0s\n",
      "[CV 2/5] END .................model__alpha=9.3;, score=-0.200 total time=   0.0s\n",
      "[CV 3/5] END .................model__alpha=9.3;, score=-0.203 total time=   0.0s\n",
      "[CV 4/5] END .................model__alpha=9.3;, score=-0.198 total time=   0.0s\n",
      "[CV 5/5] END .................model__alpha=9.3;, score=-0.198 total time=   0.0s\n",
      "[CV 1/5] END .................model__alpha=9.4;, score=-0.194 total time=   0.0s\n",
      "[CV 2/5] END .................model__alpha=9.4;, score=-0.200 total time=   0.0s\n",
      "[CV 3/5] END .................model__alpha=9.4;, score=-0.203 total time=   0.0s\n",
      "[CV 4/5] END .................model__alpha=9.4;, score=-0.198 total time=   0.0s\n",
      "[CV 5/5] END .................model__alpha=9.4;, score=-0.198 total time=   0.0s\n"
     ]
    },
    {
     "name": "stdout",
     "output_type": "stream",
     "text": [
      "[CV 1/5] END .................model__alpha=9.5;, score=-0.194 total time=   0.0s\n",
      "[CV 2/5] END .................model__alpha=9.5;, score=-0.200 total time=   0.0s\n",
      "[CV 3/5] END .................model__alpha=9.5;, score=-0.203 total time=   0.0s\n",
      "[CV 4/5] END .................model__alpha=9.5;, score=-0.198 total time=   0.0s\n",
      "[CV 5/5] END .................model__alpha=9.5;, score=-0.198 total time=   0.0s\n",
      "[CV 1/5] END .................model__alpha=9.6;, score=-0.194 total time=   0.0s\n",
      "[CV 2/5] END .................model__alpha=9.6;, score=-0.200 total time=   0.0s\n",
      "[CV 3/5] END .................model__alpha=9.6;, score=-0.203 total time=   0.0s\n",
      "[CV 4/5] END .................model__alpha=9.6;, score=-0.198 total time=   0.0s\n",
      "[CV 5/5] END .................model__alpha=9.6;, score=-0.198 total time=   0.0s\n",
      "[CV 1/5] END ...model__alpha=9.700000000000001;, score=-0.194 total time=   0.0s\n",
      "[CV 2/5] END ...model__alpha=9.700000000000001;, score=-0.200 total time=   0.0s\n",
      "[CV 3/5] END ...model__alpha=9.700000000000001;, score=-0.203 total time=   0.0s\n",
      "[CV 4/5] END ...model__alpha=9.700000000000001;, score=-0.198 total time=   0.0s\n",
      "[CV 5/5] END ...model__alpha=9.700000000000001;, score=-0.198 total time=   0.0s\n",
      "[CV 1/5] END .................model__alpha=9.8;, score=-0.194 total time=   0.0s\n",
      "[CV 2/5] END .................model__alpha=9.8;, score=-0.200 total time=   0.0s\n",
      "[CV 3/5] END .................model__alpha=9.8;, score=-0.203 total time=   0.0s\n",
      "[CV 4/5] END .................model__alpha=9.8;, score=-0.198 total time=   0.0s\n",
      "[CV 5/5] END .................model__alpha=9.8;, score=-0.198 total time=   0.0s\n",
      "[CV 1/5] END .................model__alpha=9.9;, score=-0.194 total time=   0.0s\n",
      "[CV 2/5] END .................model__alpha=9.9;, score=-0.200 total time=   0.0s\n",
      "[CV 3/5] END .................model__alpha=9.9;, score=-0.203 total time=   0.0s\n",
      "[CV 4/5] END .................model__alpha=9.9;, score=-0.198 total time=   0.0s\n",
      "[CV 5/5] END .................model__alpha=9.9;, score=-0.198 total time=   0.0s\n"
     ]
    },
    {
     "data": {
      "text/plain": [
       "GridSearchCV(cv=5,\n",
       "             estimator=Pipeline(steps=[('scaler', StandardScaler()),\n",
       "                                       ('model', Lasso())]),\n",
       "             param_grid={'model__alpha': array([0.1, 0.2, 0.3, 0.4, 0.5, 0.6, 0.7, 0.8, 0.9, 1. , 1.1, 1.2, 1.3,\n",
       "       1.4, 1.5, 1.6, 1.7, 1.8, 1.9, 2. , 2.1, 2.2, 2.3, 2.4, 2.5, 2.6,\n",
       "       2.7, 2.8, 2.9, 3. , 3.1, 3.2, 3.3, 3.4, 3.5, 3.6, 3.7, 3.8, 3.9,\n",
       "       4. , 4.1, 4.2, 4.3, 4.4, 4.5, 4.6, 4.7, 4.8, 4.9, 5. , 5.1, 5.2,\n",
       "       5.3, 5.4, 5.5, 5.6, 5.7, 5.8, 5.9, 6. , 6.1, 6.2, 6.3, 6.4, 6.5,\n",
       "       6.6, 6.7, 6.8, 6.9, 7. , 7.1, 7.2, 7.3, 7.4, 7.5, 7.6, 7.7, 7.8,\n",
       "       7.9, 8. , 8.1, 8.2, 8.3, 8.4, 8.5, 8.6, 8.7, 8.8, 8.9, 9. , 9.1,\n",
       "       9.2, 9.3, 9.4, 9.5, 9.6, 9.7, 9.8, 9.9])},\n",
       "             scoring='neg_mean_squared_error', verbose=3)"
      ]
     },
     "execution_count": 20,
     "metadata": {},
     "output_type": "execute_result"
    }
   ],
   "source": [
    "# Fit the GridSearch cross-validation to find best parameters.\n",
    "\n",
    "search.fit(X_train,y_train)"
   ]
  },
  {
   "cell_type": "code",
   "execution_count": 21,
   "id": "8b97f639",
   "metadata": {},
   "outputs": [
    {
     "data": {
      "text/plain": [
       "{'model__alpha': 0.1}"
      ]
     },
     "execution_count": 21,
     "metadata": {},
     "output_type": "execute_result"
    }
   ],
   "source": [
    "# Check for best parameter for alpha\n",
    "\n",
    "search.best_params_"
   ]
  },
  {
   "cell_type": "code",
   "execution_count": 22,
   "id": "2d8ef3d9",
   "metadata": {},
   "outputs": [],
   "source": [
    "# Find the coefficients of the Lasso regression\n",
    "coefficients = search.best_estimator_.named_steps['model'].coef_"
   ]
  },
  {
   "cell_type": "code",
   "execution_count": 23,
   "id": "c7868472",
   "metadata": {},
   "outputs": [
    {
     "data": {
      "text/plain": [
       "array([0.       , 0.       , 0.0888929, 0.       , 0.       ])"
      ]
     },
     "execution_count": 23,
     "metadata": {},
     "output_type": "execute_result"
    }
   ],
   "source": [
    "# check which features were disregarded by Lasso and which ones are important. The features with a zero\n",
    "# coefficient can be dropped from the model.\n",
    "\n",
    "importance = np.abs(coefficients)\n",
    "importance"
   ]
  },
  {
   "cell_type": "code",
   "execution_count": 24,
   "id": "b81d07ca",
   "metadata": {},
   "outputs": [
    {
     "data": {
      "text/plain": [
       "array(['Tenure'], dtype='<U18')"
      ]
     },
     "execution_count": 24,
     "metadata": {},
     "output_type": "execute_result"
    }
   ],
   "source": [
    "# Find which feature to keep with a coefficient greater than 0\n",
    "\n",
    "np.array(['Income','Outage_sec_perweek','Tenure','MonthlyCharge','Bandwidth_GB_Year'])[importance > 0]"
   ]
  },
  {
   "cell_type": "code",
   "execution_count": 25,
   "id": "e5ae76f4",
   "metadata": {},
   "outputs": [
    {
     "data": {
      "text/plain": [
       "array(['Income', 'Outage_sec_perweek', 'MonthlyCharge',\n",
       "       'Bandwidth_GB_Year'], dtype='<U18')"
      ]
     },
     "execution_count": 25,
     "metadata": {},
     "output_type": "execute_result"
    }
   ],
   "source": [
    "# Display which features to drop with a coefficient equal to 0.\n",
    "\n",
    "np.array(['Income','Outage_sec_perweek','Tenure','MonthlyCharge','Bandwidth_GB_Year'])[importance == 0]"
   ]
  },
  {
   "cell_type": "code",
   "execution_count": 26,
   "id": "d51dfac6",
   "metadata": {},
   "outputs": [
    {
     "name": "stdout",
     "output_type": "stream",
     "text": [
      "R squared test set -17.17\n"
     ]
    }
   ],
   "source": [
    "# find R squared for the test.\n",
    "\n",
    "print('R squared test set', round(search.score(X_test, y_test)*100, 2))"
   ]
  },
  {
   "cell_type": "code",
   "execution_count": 27,
   "id": "b6dc30ff",
   "metadata": {},
   "outputs": [
    {
     "name": "stdout",
     "output_type": "stream",
     "text": [
      "MSE test set 0.17\n"
     ]
    }
   ],
   "source": [
    "# Find mean squared error or MSE for the test.\n",
    "\n",
    "from sklearn.metrics import mean_squared_error\n",
    "\n",
    "# Test data\n",
    "pred = search.predict(X_test)\n",
    "mse_test =mean_squared_error(y_test, pred)\n",
    "print('MSE test set', round(mse_test, 2))"
   ]
  },
  {
   "cell_type": "code",
   "execution_count": 28,
   "id": "78a24521",
   "metadata": {},
   "outputs": [],
   "source": [
    "# Extract code for data mining - predictive analysis using Lasso regression method.\n",
    "df.to_csv(r'C:\\Users\\cseba\\Documents\\WGU\\D209 Data Mining I\\Task 2\\D209_Predictive_Analysis_Task_2.csv')"
   ]
  },
  {
   "cell_type": "markdown",
   "id": "14542942",
   "metadata": {},
   "source": [
    "The purpose of this analysis was to fit the training data to a Lasso regression model in order\n",
    "to make predictions on the test data and determine how accurately the \n",
    "Lasso method can perform feature selection in order to predict customer churn.\n",
    "\n",
    "A clean dataset was prepared for analysis and split into training and test sets. The MSE and R squared were calculated\n",
    "and hyperparameter tuning was applied for cross-validation to find the best value for alpha. Then, used best_estimator\n",
    "to find the coefficient for the predictor variables. The scores and values are explained in the paper."
   ]
  }
 ],
 "metadata": {
  "kernelspec": {
   "display_name": "Python 3 (ipykernel)",
   "language": "python",
   "name": "python3"
  },
  "language_info": {
   "codemirror_mode": {
    "name": "ipython",
    "version": 3
   },
   "file_extension": ".py",
   "mimetype": "text/x-python",
   "name": "python",
   "nbconvert_exporter": "python",
   "pygments_lexer": "ipython3",
   "version": "3.9.13"
  }
 },
 "nbformat": 4,
 "nbformat_minor": 5
}
